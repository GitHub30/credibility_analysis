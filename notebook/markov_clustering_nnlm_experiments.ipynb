{
 "cells": [
  {
   "cell_type": "code",
   "execution_count": 1,
   "metadata": {},
   "outputs": [],
   "source": [
    "import pandas as pd"
   ]
  },
  {
   "cell_type": "code",
   "execution_count": 2,
   "metadata": {},
   "outputs": [],
   "source": [
    "df = pd.read_csv(\"progress_afp.csv\")"
   ]
  },
  {
   "cell_type": "code",
   "execution_count": 12,
   "metadata": {},
   "outputs": [],
   "source": [
    "df = df[['data', \"day_fixed\"]]\n",
    "df['day_fixed'] = list(map(pd.Timestamp, df['day_fixed'].tolist()))"
   ]
  },
  {
   "cell_type": "code",
   "execution_count": 13,
   "metadata": {},
   "outputs": [
    {
     "data": {
      "text/html": [
       "<div>\n",
       "<style scoped>\n",
       "    .dataframe tbody tr th:only-of-type {\n",
       "        vertical-align: middle;\n",
       "    }\n",
       "\n",
       "    .dataframe tbody tr th {\n",
       "        vertical-align: top;\n",
       "    }\n",
       "\n",
       "    .dataframe thead th {\n",
       "        text-align: right;\n",
       "    }\n",
       "</style>\n",
       "<table border=\"1\" class=\"dataframe\">\n",
       "  <thead>\n",
       "    <tr style=\"text-align: right;\">\n",
       "      <th></th>\n",
       "      <th>data</th>\n",
       "      <th>day_fixed</th>\n",
       "    </tr>\n",
       "  </thead>\n",
       "  <tbody>\n",
       "    <tr>\n",
       "      <th>0</th>\n",
       "      <td>シリア 南部 の 避難 民 27 万 人 超える 政府 軍 攻勢 で 急増 国連 発表 内戦...</td>\n",
       "      <td>2018-07-03 07:06:00</td>\n",
       "    </tr>\n",
       "    <tr>\n",
       "      <th>1</th>\n",
       "      <td>メキシコ 次期 大統領 、 トランプ 氏 と 初 の 電話 会談 「 素晴らしい 」 滑り出...</td>\n",
       "      <td>2018-07-03 10:55:00</td>\n",
       "    </tr>\n",
       "    <tr>\n",
       "      <th>2</th>\n",
       "      <td>比 亜 迪 の 電池 工場 、 青海 で 操業 開始 世界 最大 規模 中国 の 電気 自動...</td>\n",
       "      <td>2018-07-03 09:22:00</td>\n",
       "    </tr>\n",
       "  </tbody>\n",
       "</table>\n",
       "</div>"
      ],
      "text/plain": [
       "                                                data           day_fixed\n",
       "0  シリア 南部 の 避難 民 27 万 人 超える 政府 軍 攻勢 で 急増 国連 発表 内戦... 2018-07-03 07:06:00\n",
       "1  メキシコ 次期 大統領 、 トランプ 氏 と 初 の 電話 会談 「 素晴らしい 」 滑り出... 2018-07-03 10:55:00\n",
       "2  比 亜 迪 の 電池 工場 、 青海 で 操業 開始 世界 最大 規模 中国 の 電気 自動... 2018-07-03 09:22:00"
      ]
     },
     "execution_count": 13,
     "metadata": {},
     "output_type": "execute_result"
    }
   ],
   "source": [
    "df.head(3)"
   ]
  },
  {
   "cell_type": "code",
   "execution_count": 9,
   "metadata": {},
   "outputs": [],
   "source": [
    "import numpy as np\n",
    "from functools import partial\n",
    "from dateutil import parser\n",
    "import datetime\n",
    "\n",
    "def diff_date(t1, t2):\n",
    "    if t1 < t2:\n",
    "        tmp = t1\n",
    "        t1 = t2\n",
    "        t2 = tmp\n",
    "    return (t1-t2).to_timedelta64().astype(\"timedelta64[h]\")/np.timedelta64(1,'h')\n",
    "\n",
    "def within(t1, base, hour=12):\n",
    "    return diff_date(t1, base) <= hour\n",
    "\n",
    "def get_around_12(df, base, hour=12, column=\"day_fixed\"):\n",
    "    func = partial(within, base=base, hour=hour)\n",
    "    return df[list(map(func, df[column].tolist()))]\n",
    "\n",
    "def get_day(start, plus):\n",
    "    return pd.Timestamp(start + datetime.timedelta(days=plus))"
   ]
  },
  {
   "cell_type": "code",
   "execution_count": 14,
   "metadata": {},
   "outputs": [],
   "source": [
    "start = datetime.datetime(2017,2,1,12,0,0)\n",
    "day = get_day(start, 0)\n",
    "targets = get_around_12(df, day, hour=12*30)"
   ]
  },
  {
   "cell_type": "code",
   "execution_count": 16,
   "metadata": {},
   "outputs": [
    {
     "data": {
      "text/html": [
       "<div>\n",
       "<style scoped>\n",
       "    .dataframe tbody tr th:only-of-type {\n",
       "        vertical-align: middle;\n",
       "    }\n",
       "\n",
       "    .dataframe tbody tr th {\n",
       "        vertical-align: top;\n",
       "    }\n",
       "\n",
       "    .dataframe thead th {\n",
       "        text-align: right;\n",
       "    }\n",
       "</style>\n",
       "<table border=\"1\" class=\"dataframe\">\n",
       "  <thead>\n",
       "    <tr style=\"text-align: right;\">\n",
       "      <th></th>\n",
       "      <th>data</th>\n",
       "      <th>day_fixed</th>\n",
       "    </tr>\n",
       "  </thead>\n",
       "  <tbody>\n",
       "    <tr>\n",
       "      <th>10927</th>\n",
       "      <td>ロシア は 「 大統領 選 に 干渉 する な 」 仏 外相 が 警告 フランス の ジャン...</td>\n",
       "      <td>2017-02-16 09:59:00</td>\n",
       "    </tr>\n",
       "    <tr>\n",
       "      <th>10930</th>\n",
       "      <td>NZ クライストチャーチ で 森林 火災 、 非常 事態 を 宣言 ニュージーランド 南島 ...</td>\n",
       "      <td>2017-02-16 12:42:00</td>\n",
       "    </tr>\n",
       "    <tr>\n",
       "      <th>10931</th>\n",
       "      <td>動画 配信 中 に 銃撃 、 幼児 ら 2 人 死亡 米 シカゴ 米 イリノイ （ Ilin...</td>\n",
       "      <td>2017-02-16 08:43:00</td>\n",
       "    </tr>\n",
       "  </tbody>\n",
       "</table>\n",
       "</div>"
      ],
      "text/plain": [
       "                                                    data           day_fixed\n",
       "10927  ロシア は 「 大統領 選 に 干渉 する な 」 仏 外相 が 警告 フランス の ジャン... 2017-02-16 09:59:00\n",
       "10930  NZ クライストチャーチ で 森林 火災 、 非常 事態 を 宣言 ニュージーランド 南島 ... 2017-02-16 12:42:00\n",
       "10931  動画 配信 中 に 銃撃 、 幼児 ら 2 人 死亡 米 シカゴ 米 イリノイ （ Ilin... 2017-02-16 08:43:00"
      ]
     },
     "execution_count": 16,
     "metadata": {},
     "output_type": "execute_result"
    }
   ],
   "source": [
    "targets.head(3)"
   ]
  },
  {
   "cell_type": "code",
   "execution_count": 17,
   "metadata": {},
   "outputs": [
    {
     "name": "stderr",
     "output_type": "stream",
     "text": [
      "/opt/conda/lib/python3.6/site-packages/h5py/__init__.py:36: FutureWarning: Conversion of the second argument of issubdtype from `float` to `np.floating` is deprecated. In future, it will be treated as `np.float64 == np.dtype(float).type`.\n",
      "  from ._conv import register_converters as _register_converters\n"
     ]
    }
   ],
   "source": [
    "import tensorflow as tf\n",
    "import tensorflow_hub as hub\n",
    "\n",
    "class Word2VecVectorizer:\n",
    "    def __init__(self):\n",
    "        pass\n",
    "\n",
    "    def fit(self, X, y):\n",
    "        return self\n",
    "\n",
    "    def transform(self, X):\n",
    "        if isinstance(X, pd.core.series.Series):\n",
    "            X = X.tolist()        \n",
    "        return self.texts_encoder(X)\n",
    "\n",
    "    def texts_encoder(self, texts):\n",
    "        with tf.Graph().as_default():\n",
    "            embed = hub.Module(\"https://tfhub.dev/google/nnlm-ja-dim128/1\")\n",
    "            embeddings = embed(texts)\n",
    "            with tf.Session() as sess:\n",
    "                sess.run(tf.global_variables_initializer())\n",
    "                sess.run(tf.tables_initializer())\n",
    "                result = sess.run(embeddings)\n",
    "        return result"
   ]
  },
  {
   "cell_type": "code",
   "execution_count": 18,
   "metadata": {},
   "outputs": [
    {
     "name": "stdout",
     "output_type": "stream",
     "text": [
      "INFO:tensorflow:Using /tmp/tfhub_modules to cache modules.\n",
      "INFO:tensorflow:Initialize variable module/embeddings/part_0:0 from checkpoint b'/tmp/tfhub_modules/22c95b8e6878e472b6647f65afb10d88cafc52e0/variables/variables' with embeddings\n"
     ]
    }
   ],
   "source": [
    "word_vectors = Word2VecVectorizer().transform(targets['data'])"
   ]
  },
  {
   "cell_type": "code",
   "execution_count": 19,
   "metadata": {},
   "outputs": [],
   "source": [
    "from sklearn.metrics.pairwise import cosine_similarity\n",
    "similarities = cosine_similarity(word_vectors)"
   ]
  },
  {
   "cell_type": "code",
   "execution_count": 20,
   "metadata": {},
   "outputs": [],
   "source": [
    "import markov_clustering as mc\n",
    "result = mc.run_mcl(similarities)\n",
    "clusters = mc.get_clusters(result)"
   ]
  },
  {
   "cell_type": "code",
   "execution_count": 30,
   "metadata": {},
   "outputs": [
    {
     "data": {
      "text/plain": [
       "1"
      ]
     },
     "execution_count": 30,
     "metadata": {},
     "output_type": "execute_result"
    }
   ],
   "source": [
    "for i, cluster in enumerate(clusters):\n",
    "    print(\"[{}]\".format(i))\n",
    "    for c in cluster:\n",
    "        print(targets.iloc[c]['data'].replace(\"\\n\", \"\"))\n",
    "    print(\"\")"
   ]
  },
  {
   "cell_type": "code",
   "execution_count": 31,
   "metadata": {},
   "outputs": [
    {
     "data": {
      "text/plain": [
       "array([[1.        , 0.5112249 , 0.47024447, ..., 0.66792464, 0.67268664,\n",
       "        0.39303657],\n",
       "       [0.5112249 , 1.        , 0.6203477 , ..., 0.5470191 , 0.6137175 ,\n",
       "        0.20962489],\n",
       "       [0.47024447, 0.6203477 , 1.        , ..., 0.63104254, 0.47594666,\n",
       "        0.41406703],\n",
       "       ...,\n",
       "       [0.66792464, 0.5470191 , 0.63104254, ..., 1.        , 0.6481949 ,\n",
       "        0.50885403],\n",
       "       [0.67268664, 0.6137175 , 0.47594666, ..., 0.6481949 , 1.0000002 ,\n",
       "        0.5160222 ],\n",
       "       [0.39303657, 0.20962489, 0.41406703, ..., 0.50885403, 0.5160222 ,\n",
       "        0.9999999 ]], dtype=float32)"
      ]
     },
     "execution_count": 31,
     "metadata": {},
     "output_type": "execute_result"
    }
   ],
   "source": [
    "similarities"
   ]
  },
  {
   "cell_type": "code",
   "execution_count": null,
   "metadata": {},
   "outputs": [],
   "source": []
  },
  {
   "cell_type": "code",
   "execution_count": null,
   "metadata": {},
   "outputs": [],
   "source": []
  },
  {
   "cell_type": "code",
   "execution_count": null,
   "metadata": {},
   "outputs": [],
   "source": []
  }
 ],
 "metadata": {
  "kernelspec": {
   "display_name": "Python 3",
   "language": "python",
   "name": "python3"
  },
  "language_info": {
   "codemirror_mode": {
    "name": "ipython",
    "version": 3
   },
   "file_extension": ".py",
   "mimetype": "text/x-python",
   "name": "python",
   "nbconvert_exporter": "python",
   "pygments_lexer": "ipython3",
   "version": "3.6.5"
  }
 },
 "nbformat": 4,
 "nbformat_minor": 2
}
