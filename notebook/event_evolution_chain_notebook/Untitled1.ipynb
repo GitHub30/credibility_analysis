{
 "cells": [
  {
   "cell_type": "code",
   "execution_count": 1,
   "metadata": {},
   "outputs": [
    {
     "name": "stdout",
     "output_type": "stream",
     "text": [
      "Collecting anago\n",
      "  Downloading https://files.pythonhosted.org/packages/0e/09/a62ba9564e488376966f771105522c4d7783ec141964c0b955230b1f5f63/anago-1.0.8-py3-none-any.whl\n",
      "Requirement already satisfied: scikit-learn>=0.19.1 in /opt/conda/lib/python3.6/site-packages (from anago) (0.19.1)\n",
      "Requirement already satisfied: requests>=2.18.4 in /opt/conda/lib/python3.6/site-packages (from anago) (2.18.4)\n",
      "Requirement already satisfied: numpy>=1.14.3 in /opt/conda/lib/python3.6/site-packages (from anago) (1.14.3)\n",
      "Requirement already satisfied: Keras>=2.2.0 in /opt/conda/lib/python3.6/site-packages (from anago) (2.2.0)\n",
      "Requirement already satisfied: h5py>=2.7.1 in /opt/conda/lib/python3.6/site-packages (from anago) (2.7.1)\n",
      "Requirement already satisfied: tensorflow>=1.8.0 in /opt/conda/lib/python3.6/site-packages (from anago) (1.8.0)\n",
      "Collecting seqeval>=0.0.3 (from anago)\n",
      "  Downloading https://files.pythonhosted.org/packages/21/85/fbc6cbbe09b5950531ed1c2543b3528078541625b96a1ffcc8c3239af2af/seqeval-0.0.3-py3-none-any.whl\n",
      "Requirement already satisfied: chardet<3.1.0,>=3.0.2 in /opt/conda/lib/python3.6/site-packages (from requests>=2.18.4->anago) (3.0.4)\n",
      "Requirement already satisfied: idna<2.7,>=2.5 in /opt/conda/lib/python3.6/site-packages (from requests>=2.18.4->anago) (2.6)\n",
      "Requirement already satisfied: urllib3<1.23,>=1.21.1 in /opt/conda/lib/python3.6/site-packages (from requests>=2.18.4->anago) (1.22)\n",
      "Requirement already satisfied: certifi>=2017.4.17 in /opt/conda/lib/python3.6/site-packages (from requests>=2.18.4->anago) (2018.4.16)\n",
      "Requirement already satisfied: six>=1.9.0 in /opt/conda/lib/python3.6/site-packages (from Keras>=2.2.0->anago) (1.11.0)\n",
      "Requirement already satisfied: scipy>=0.14 in /opt/conda/lib/python3.6/site-packages (from Keras>=2.2.0->anago) (1.1.0)\n",
      "Requirement already satisfied: keras-preprocessing==1.0.1 in /opt/conda/lib/python3.6/site-packages (from Keras>=2.2.0->anago) (1.0.1)\n",
      "Requirement already satisfied: pyyaml in /opt/conda/lib/python3.6/site-packages (from Keras>=2.2.0->anago) (3.12)\n",
      "Requirement already satisfied: keras-applications==1.0.2 in /opt/conda/lib/python3.6/site-packages (from Keras>=2.2.0->anago) (1.0.2)\n",
      "Requirement already satisfied: astor>=0.6.0 in /opt/conda/lib/python3.6/site-packages (from tensorflow>=1.8.0->anago) (0.6.2)\n",
      "Requirement already satisfied: protobuf>=3.4.0 in /opt/conda/lib/python3.6/site-packages (from tensorflow>=1.8.0->anago) (3.5.2)\n",
      "Requirement already satisfied: tensorboard<1.9.0,>=1.8.0 in /opt/conda/lib/python3.6/site-packages (from tensorflow>=1.8.0->anago) (1.8.0)\n",
      "Requirement already satisfied: grpcio>=1.8.6 in /opt/conda/lib/python3.6/site-packages (from tensorflow>=1.8.0->anago) (1.13.0)\n",
      "Requirement already satisfied: termcolor>=1.1.0 in /opt/conda/lib/python3.6/site-packages (from tensorflow>=1.8.0->anago) (1.1.0)\n",
      "Requirement already satisfied: wheel>=0.26 in /opt/conda/lib/python3.6/site-packages (from tensorflow>=1.8.0->anago) (0.31.1)\n",
      "Requirement already satisfied: absl-py>=0.1.6 in /opt/conda/lib/python3.6/site-packages (from tensorflow>=1.8.0->anago) (0.2.2)\n",
      "Requirement already satisfied: gast>=0.2.0 in /opt/conda/lib/python3.6/site-packages (from tensorflow>=1.8.0->anago) (0.2.0)\n",
      "Requirement already satisfied: setuptools in /opt/conda/lib/python3.6/site-packages (from protobuf>=3.4.0->tensorflow>=1.8.0->anago) (39.1.0)\n",
      "Requirement already satisfied: html5lib==0.9999999 in /opt/conda/lib/python3.6/site-packages (from tensorboard<1.9.0,>=1.8.0->tensorflow>=1.8.0->anago) (0.9999999)\n",
      "Requirement already satisfied: bleach==1.5.0 in /opt/conda/lib/python3.6/site-packages (from tensorboard<1.9.0,>=1.8.0->tensorflow>=1.8.0->anago) (1.5.0)\n",
      "Requirement already satisfied: werkzeug>=0.11.10 in /opt/conda/lib/python3.6/site-packages (from tensorboard<1.9.0,>=1.8.0->tensorflow>=1.8.0->anago) (0.14.1)\n",
      "Requirement already satisfied: markdown>=2.6.8 in /opt/conda/lib/python3.6/site-packages (from tensorboard<1.9.0,>=1.8.0->tensorflow>=1.8.0->anago) (2.6.11)\n",
      "\u001b[31mdistributed 1.21.8 requires msgpack, which is not installed.\u001b[0m\n",
      "Installing collected packages: seqeval, anago\n",
      "Successfully installed anago-1.0.8 seqeval-0.0.3\n"
     ]
    }
   ],
   "source": [
    "!pip install anago"
   ]
  },
  {
   "cell_type": "code",
   "execution_count": 2,
   "metadata": {},
   "outputs": [],
   "source": [
    "from hironsan.corpus import hiron2016"
   ]
  },
  {
   "cell_type": "code",
   "execution_count": 7,
   "metadata": {},
   "outputs": [],
   "source": [
    "train = hiron2016.iob_sents(\"train\")\n",
    "test = hiron2016.iob_sents(\"test\")"
   ]
  },
  {
   "cell_type": "code",
   "execution_count": 8,
   "metadata": {},
   "outputs": [],
   "source": [
    "def extract_hiron(data):\n",
    "    X = []\n",
    "    y = []\n",
    "    for d in data:\n",
    "        X.append([x[0] for x in d])\n",
    "        y.append([y[-1] for y in d])\n",
    "    return X, y"
   ]
  },
  {
   "cell_type": "code",
   "execution_count": 13,
   "metadata": {},
   "outputs": [],
   "source": [
    "X_train, y_train = extract_hiron(train)\n",
    "X_test, y_test = extract_hiron(test)"
   ]
  },
  {
   "cell_type": "code",
   "execution_count": 14,
   "metadata": {},
   "outputs": [
    {
     "name": "stderr",
     "output_type": "stream",
     "text": [
      "/opt/conda/lib/python3.6/site-packages/h5py/__init__.py:36: FutureWarning: Conversion of the second argument of issubdtype from `float` to `np.floating` is deprecated. In future, it will be treated as `np.float64 == np.dtype(float).type`.\n",
      "  from ._conv import register_converters as _register_converters\n",
      "Using TensorFlow backend.\n"
     ]
    },
    {
     "name": "stdout",
     "output_type": "stream",
     "text": [
      "Epoch 1/15\n",
      "15/15 [==============================] - 4s 262ms/step - loss: 9.0435\n",
      "Epoch 2/15\n",
      "15/15 [==============================] - 2s 141ms/step - loss: 7.8156\n",
      "Epoch 3/15\n",
      "15/15 [==============================] - 2s 146ms/step - loss: 7.5807\n",
      "Epoch 4/15\n",
      "15/15 [==============================] - 2s 146ms/step - loss: 7.4775\n",
      "Epoch 5/15\n",
      "15/15 [==============================] - 2s 141ms/step - loss: 7.3996\n",
      "Epoch 6/15\n",
      "15/15 [==============================] - 2s 141ms/step - loss: 7.3294\n",
      "Epoch 7/15\n",
      "15/15 [==============================] - 2s 141ms/step - loss: 7.2676\n",
      "Epoch 8/15\n",
      "15/15 [==============================] - 2s 141ms/step - loss: 7.2068\n",
      "Epoch 9/15\n",
      "15/15 [==============================] - 2s 141ms/step - loss: 7.1586\n",
      "Epoch 10/15\n",
      "15/15 [==============================] - 2s 148ms/step - loss: 7.1250\n",
      "Epoch 11/15\n",
      "15/15 [==============================] - 2s 144ms/step - loss: 7.0982\n",
      "Epoch 12/15\n",
      "15/15 [==============================] - 2s 154ms/step - loss: 7.0698\n",
      "Epoch 13/15\n",
      "15/15 [==============================] - 2s 150ms/step - loss: 7.0526\n",
      "Epoch 14/15\n",
      "15/15 [==============================] - 2s 141ms/step - loss: 7.0282\n",
      "Epoch 15/15\n",
      "15/15 [==============================] - 2s 152ms/step - loss: 7.0079\n"
     ]
    }
   ],
   "source": [
    "import anago\n",
    "model = anago.Sequence()\n",
    "model.fit(X_train, y_train, epochs=15)"
   ]
  },
  {
   "cell_type": "code",
   "execution_count": 16,
   "metadata": {},
   "outputs": [
    {
     "data": {
      "text/plain": [
       "0.3949962092494314"
      ]
     },
     "execution_count": 16,
     "metadata": {},
     "output_type": "execute_result"
    }
   ],
   "source": [
    "model.score(X_train, y_train)"
   ]
  },
  {
   "cell_type": "code",
   "execution_count": null,
   "metadata": {},
   "outputs": [],
   "source": []
  },
  {
   "cell_type": "code",
   "execution_count": null,
   "metadata": {},
   "outputs": [],
   "source": []
  }
 ],
 "metadata": {
  "kernelspec": {
   "display_name": "Python 3",
   "language": "python",
   "name": "python3"
  },
  "language_info": {
   "codemirror_mode": {
    "name": "ipython",
    "version": 3
   },
   "file_extension": ".py",
   "mimetype": "text/x-python",
   "name": "python",
   "nbconvert_exporter": "python",
   "pygments_lexer": "ipython3",
   "version": "3.6.5"
  }
 },
 "nbformat": 4,
 "nbformat_minor": 2
}
