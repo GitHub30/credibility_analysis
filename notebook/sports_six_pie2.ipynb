{
 "cells": [
  {
   "cell_type": "code",
   "execution_count": 1,
   "metadata": {},
   "outputs": [],
   "source": [
    "import pandas as pd"
   ]
  },
  {
   "cell_type": "code",
   "execution_count": 4,
   "metadata": {},
   "outputs": [],
   "source": [
    "data = []\n",
    "with open(\"data/catkey.csv\", \"r\") as f:\n",
    "    for line in f:\n",
    "        t = line.split(\",\")\n",
    "        data.append({\"category\": t[0].strip(), \"keyword\": t[1].strip()})"
   ]
  },
  {
   "cell_type": "code",
   "execution_count": 5,
   "metadata": {},
   "outputs": [
    {
     "data": {
      "text/html": [
       "<div>\n",
       "<style scoped>\n",
       "    .dataframe tbody tr th:only-of-type {\n",
       "        vertical-align: middle;\n",
       "    }\n",
       "\n",
       "    .dataframe tbody tr th {\n",
       "        vertical-align: top;\n",
       "    }\n",
       "\n",
       "    .dataframe thead th {\n",
       "        text-align: right;\n",
       "    }\n",
       "</style>\n",
       "<table border=\"1\" class=\"dataframe\">\n",
       "  <thead>\n",
       "    <tr style=\"text-align: right;\">\n",
       "      <th></th>\n",
       "      <th>category</th>\n",
       "      <th>keyword</th>\n",
       "    </tr>\n",
       "  </thead>\n",
       "  <tbody>\n",
       "    <tr>\n",
       "      <th>0</th>\n",
       "      <td>名言・ことば</td>\n",
       "      <td>言葉</td>\n",
       "    </tr>\n",
       "    <tr>\n",
       "      <th>1</th>\n",
       "      <td>名言・ことば</td>\n",
       "      <td>語った</td>\n",
       "    </tr>\n",
       "    <tr>\n",
       "      <th>2</th>\n",
       "      <td>名言・ことば</td>\n",
       "      <td>発言</td>\n",
       "    </tr>\n",
       "    <tr>\n",
       "      <th>3</th>\n",
       "      <td>ターニングポイント</td>\n",
       "      <td>転機</td>\n",
       "    </tr>\n",
       "    <tr>\n",
       "      <th>4</th>\n",
       "      <td>ターニングポイント</td>\n",
       "      <td>決断</td>\n",
       "    </tr>\n",
       "    <tr>\n",
       "      <th>5</th>\n",
       "      <td>ターニングポイント</td>\n",
       "      <td>挫折</td>\n",
       "    </tr>\n",
       "    <tr>\n",
       "      <th>6</th>\n",
       "      <td>ターニングポイント</td>\n",
       "      <td>屈辱</td>\n",
       "    </tr>\n",
       "    <tr>\n",
       "      <th>7</th>\n",
       "      <td>ターニングポイント</td>\n",
       "      <td>分岐点</td>\n",
       "    </tr>\n",
       "    <tr>\n",
       "      <th>8</th>\n",
       "      <td>ターニングポイント</td>\n",
       "      <td>出会い</td>\n",
       "    </tr>\n",
       "    <tr>\n",
       "      <th>9</th>\n",
       "      <td>ルーツ</td>\n",
       "      <td>恩師</td>\n",
       "    </tr>\n",
       "    <tr>\n",
       "      <th>10</th>\n",
       "      <td>ルーツ</td>\n",
       "      <td>幼少期</td>\n",
       "    </tr>\n",
       "    <tr>\n",
       "      <th>11</th>\n",
       "      <td>ルーツ</td>\n",
       "      <td>学生時代</td>\n",
       "    </tr>\n",
       "    <tr>\n",
       "      <th>12</th>\n",
       "      <td>ルーツ</td>\n",
       "      <td>おいたち</td>\n",
       "    </tr>\n",
       "    <tr>\n",
       "      <th>13</th>\n",
       "      <td>ルーツ</td>\n",
       "      <td>歩み</td>\n",
       "    </tr>\n",
       "    <tr>\n",
       "      <th>14</th>\n",
       "      <td>ルーツ</td>\n",
       "      <td>原点</td>\n",
       "    </tr>\n",
       "    <tr>\n",
       "      <th>15</th>\n",
       "      <td>エピソード</td>\n",
       "      <td>裏側</td>\n",
       "    </tr>\n",
       "    <tr>\n",
       "      <th>16</th>\n",
       "      <td>エピソード</td>\n",
       "      <td>意外な一面</td>\n",
       "    </tr>\n",
       "    <tr>\n",
       "      <th>17</th>\n",
       "      <td>エピソード</td>\n",
       "      <td>秘話</td>\n",
       "    </tr>\n",
       "    <tr>\n",
       "      <th>18</th>\n",
       "      <td>エピソード</td>\n",
       "      <td>共通点</td>\n",
       "    </tr>\n",
       "    <tr>\n",
       "      <th>19</th>\n",
       "      <td>エピソード</td>\n",
       "      <td>できごと</td>\n",
       "    </tr>\n",
       "    <tr>\n",
       "      <th>20</th>\n",
       "      <td>エピソード</td>\n",
       "      <td>伝説</td>\n",
       "    </tr>\n",
       "    <tr>\n",
       "      <th>21</th>\n",
       "      <td>エピソード</td>\n",
       "      <td>裏話</td>\n",
       "    </tr>\n",
       "    <tr>\n",
       "      <th>22</th>\n",
       "      <td>人として</td>\n",
       "      <td>パーソナリティ</td>\n",
       "    </tr>\n",
       "    <tr>\n",
       "      <th>23</th>\n",
       "      <td>人として</td>\n",
       "      <td>メンタル</td>\n",
       "    </tr>\n",
       "    <tr>\n",
       "      <th>24</th>\n",
       "      <td>人として</td>\n",
       "      <td>人間性</td>\n",
       "    </tr>\n",
       "    <tr>\n",
       "      <th>25</th>\n",
       "      <td>人として</td>\n",
       "      <td>振る舞い</td>\n",
       "    </tr>\n",
       "    <tr>\n",
       "      <th>26</th>\n",
       "      <td>人として</td>\n",
       "      <td>性格</td>\n",
       "    </tr>\n",
       "    <tr>\n",
       "      <th>27</th>\n",
       "      <td>人として</td>\n",
       "      <td>人望</td>\n",
       "    </tr>\n",
       "    <tr>\n",
       "      <th>28</th>\n",
       "      <td>人として</td>\n",
       "      <td>人柄</td>\n",
       "    </tr>\n",
       "    <tr>\n",
       "      <th>29</th>\n",
       "      <td>人として</td>\n",
       "      <td>人気</td>\n",
       "    </tr>\n",
       "    <tr>\n",
       "      <th>30</th>\n",
       "      <td>選手として</td>\n",
       "      <td>達成</td>\n",
       "    </tr>\n",
       "    <tr>\n",
       "      <th>31</th>\n",
       "      <td>選手として</td>\n",
       "      <td>結果</td>\n",
       "    </tr>\n",
       "    <tr>\n",
       "      <th>32</th>\n",
       "      <td>選手として</td>\n",
       "      <td>出場</td>\n",
       "    </tr>\n",
       "    <tr>\n",
       "      <th>33</th>\n",
       "      <td>選手として</td>\n",
       "      <td>成績</td>\n",
       "    </tr>\n",
       "    <tr>\n",
       "      <th>34</th>\n",
       "      <td>選手として</td>\n",
       "      <td>記録</td>\n",
       "    </tr>\n",
       "    <tr>\n",
       "      <th>35</th>\n",
       "      <td>選手として</td>\n",
       "      <td>記憶</td>\n",
       "    </tr>\n",
       "  </tbody>\n",
       "</table>\n",
       "</div>"
      ],
      "text/plain": [
       "     category  keyword\n",
       "0      名言・ことば       言葉\n",
       "1      名言・ことば      語った\n",
       "2      名言・ことば       発言\n",
       "3   ターニングポイント       転機\n",
       "4   ターニングポイント       決断\n",
       "5   ターニングポイント       挫折\n",
       "6   ターニングポイント       屈辱\n",
       "7   ターニングポイント      分岐点\n",
       "8   ターニングポイント      出会い\n",
       "9         ルーツ       恩師\n",
       "10        ルーツ      幼少期\n",
       "11        ルーツ     学生時代\n",
       "12        ルーツ     おいたち\n",
       "13        ルーツ       歩み\n",
       "14        ルーツ       原点\n",
       "15      エピソード       裏側\n",
       "16      エピソード    意外な一面\n",
       "17      エピソード       秘話\n",
       "18      エピソード      共通点\n",
       "19      エピソード     できごと\n",
       "20      エピソード       伝説\n",
       "21      エピソード       裏話\n",
       "22       人として  パーソナリティ\n",
       "23       人として     メンタル\n",
       "24       人として      人間性\n",
       "25       人として     振る舞い\n",
       "26       人として       性格\n",
       "27       人として       人望\n",
       "28       人として       人柄\n",
       "29       人として       人気\n",
       "30      選手として       達成\n",
       "31      選手として       結果\n",
       "32      選手として       出場\n",
       "33      選手として       成績\n",
       "34      選手として       記録\n",
       "35      選手として       記憶"
      ]
     },
     "execution_count": 5,
     "metadata": {},
     "output_type": "execute_result"
    }
   ],
   "source": [
    "df = pd.DataFrame(data)\n",
    "df"
   ]
  },
  {
   "cell_type": "code",
   "execution_count": 6,
   "metadata": {},
   "outputs": [],
   "source": [
    "from collections import defaultdict\n",
    "data = defaultdict(list)\n",
    "for i,d in df.iterrows():\n",
    "    data[d['category']].append(d['keyword'])"
   ]
  },
  {
   "cell_type": "code",
   "execution_count": 7,
   "metadata": {},
   "outputs": [
    {
     "data": {
      "text/plain": [
       "['名言・ことば', 'ターニングポイント', 'ルーツ', 'エピソード', '人として', '選手として']"
      ]
     },
     "execution_count": 7,
     "metadata": {},
     "output_type": "execute_result"
    }
   ],
   "source": [
    "categories = df['category'].unique().tolist()\n",
    "categories"
   ]
  },
  {
   "cell_type": "code",
   "execution_count": 8,
   "metadata": {},
   "outputs": [],
   "source": [
    "import pickle\n",
    "with open(\"data/category_keywords.pkl\", \"wb\") as f:\n",
    "    pickle.dump([categories, data], f)"
   ]
  },
  {
   "cell_type": "code",
   "execution_count": 2,
   "metadata": {},
   "outputs": [],
   "source": [
    "import pickle\n",
    "with open(\"data/category_keywords.pkl\", \"rb\") as f:\n",
    "    categories, keywords = pickle.load(f)"
   ]
  },
  {
   "cell_type": "code",
   "execution_count": 3,
   "metadata": {},
   "outputs": [],
   "source": [
    "import cmppie"
   ]
  },
  {
   "cell_type": "code",
   "execution_count": 4,
   "metadata": {},
   "outputs": [
    {
     "name": "stderr",
     "output_type": "stream",
     "text": [
      "100%|██████████| 6/6 [00:36<00:00,  6.11s/it]\n",
      "100%|██████████| 6/6 [00:34<00:00,  5.78s/it]\n",
      "100%|██████████| 6/6 [00:36<00:00,  6.15s/it]\n",
      "/root/work/detect_fakenews_jp/notebook/scraping_notebook/cmppie.py:87: SettingWithCopyWarning: \n",
      "A value is trying to be set on a copy of a slice from a DataFrame.\n",
      "Try using .loc[row_indexer,col_indexer] = value instead\n",
      "\n",
      "See the caveats in the documentation: http://pandas.pydata.org/pandas-docs/stable/indexing.html#indexing-view-versus-copy\n",
      "  X[col] = X[col]/df[base_column]\n"
     ]
    }
   ],
   "source": [
    "queries = [\"イチロー\", \"ダルビッシュ有\", \"大谷翔平\"]\n",
    "target_names = [\"player\", \"quote\", \"turning_point\", \"roots\", \"episode\", \"as_a_person\", \"as_a_player\"]\n",
    "executable_path = \"gathering_notebook/chromedriver\"\n",
    "model, X, _, df = cmppie.execute(queries, categories, keywords, target_names, executable_path)"
   ]
  },
  {
   "cell_type": "code",
   "execution_count": 5,
   "metadata": {},
   "outputs": [],
   "source": [
    "%matplotlib inline\n",
    "import matplotlib.pyplot as plt\n",
    "def plot(X, queries, keywords, num):\n",
    "    try:\n",
    "        plt.title(queries[num])\n",
    "        plt.pie(X[num], labels=keywords)\n",
    "        return True\n",
    "    except:\n",
    "        return False"
   ]
  },
  {
   "cell_type": "code",
   "execution_count": 12,
   "metadata": {},
   "outputs": [],
   "source": [
    "for i in range(X.shape[0]):\n",
    "    X[i] += 0.1"
   ]
  },
  {
   "cell_type": "code",
   "execution_count": 13,
   "metadata": {},
   "outputs": [],
   "source": [
    "for i in range(X.shape[0]):\n",
    "    X[i] *= 10.0"
   ]
  },
  {
   "cell_type": "code",
   "execution_count": 14,
   "metadata": {},
   "outputs": [
    {
     "data": {
      "text/plain": [
       "True"
      ]
     },
     "execution_count": 14,
     "metadata": {},
     "output_type": "execute_result"
    },
    {
     "data": {
      "image/png": "[encoded data removed]",
      "text/plain": [
       "<Figure size 432x288 with 1 Axes>"
      ]
     },
     "metadata": {},
     "output_type": "display_data"
    }
   ],
   "source": [
    "plot(X, [\"Ichiro\", \"Darvish\", \"Otani\"], target_names[1:], num=0)"
   ]
  },
  {
   "cell_type": "code",
   "execution_count": 15,
   "metadata": {},
   "outputs": [
    {
     "data": {
      "text/plain": [
       "True"
      ]
     },
     "execution_count": 15,
     "metadata": {},
     "output_type": "execute_result"
    },
    {
     "data": {
      "image/png": "[encoded data removed]",
      "text/plain": [
       "<Figure size 432x288 with 1 Axes>"
      ]
     },
     "metadata": {},
     "output_type": "display_data"
    }
   ],
   "source": [
    "plot(X, [\"Ichiro\", \"Darvish\", \"Otani\"], target_names[1:], num=1)"
   ]
  },
  {
   "cell_type": "code",
   "execution_count": 16,
   "metadata": {},
   "outputs": [
    {
     "data": {
      "text/plain": [
       "True"
      ]
     },
     "execution_count": 16,
     "metadata": {},
     "output_type": "execute_result"
    },
    {
     "data": {
      "image/png": "[encoded data removed]",
      "text/plain": [
       "<Figure size 432x288 with 1 Axes>"
      ]
     },
     "metadata": {},
     "output_type": "display_data"
    }
   ],
   "source": [
    "plot(X, [\"Ichiro\", \"Darvish\", \"Otani\"], target_names[1:], num=2)"
   ]
  },
  {
   "cell_type": "code",
   "execution_count": 9,
   "metadata": {},
   "outputs": [
    {
     "data": {
      "text/html": [
       "<div>\n",
       "<style scoped>\n",
       "    .dataframe tbody tr th:only-of-type {\n",
       "        vertical-align: middle;\n",
       "    }\n",
       "\n",
       "    .dataframe tbody tr th {\n",
       "        vertical-align: top;\n",
       "    }\n",
       "\n",
       "    .dataframe thead th {\n",
       "        text-align: right;\n",
       "    }\n",
       "</style>\n",
       "<table border=\"1\" class=\"dataframe\">\n",
       "  <thead>\n",
       "    <tr style=\"text-align: right;\">\n",
       "      <th></th>\n",
       "      <th>player</th>\n",
       "      <th>quote</th>\n",
       "      <th>turning_point</th>\n",
       "      <th>roots</th>\n",
       "      <th>episode</th>\n",
       "      <th>as_a_person</th>\n",
       "      <th>as_a_player</th>\n",
       "      <th>base_count</th>\n",
       "    </tr>\n",
       "  </thead>\n",
       "  <tbody>\n",
       "    <tr>\n",
       "      <th>0</th>\n",
       "      <td>イチロー</td>\n",
       "      <td>396333.333333</td>\n",
       "      <td>58266.666667</td>\n",
       "      <td>61378.333333</td>\n",
       "      <td>121500.000000</td>\n",
       "      <td>304875.00</td>\n",
       "      <td>595833.333333</td>\n",
       "      <td>2100000</td>\n",
       "    </tr>\n",
       "    <tr>\n",
       "      <th>1</th>\n",
       "      <td>ダルビッシュ有</td>\n",
       "      <td>192300.000000</td>\n",
       "      <td>16450.000000</td>\n",
       "      <td>28821.666667</td>\n",
       "      <td>98567.142857</td>\n",
       "      <td>117621.25</td>\n",
       "      <td>262150.000000</td>\n",
       "      <td>752000</td>\n",
       "    </tr>\n",
       "    <tr>\n",
       "      <th>2</th>\n",
       "      <td>大谷翔平</td>\n",
       "      <td>814333.333333</td>\n",
       "      <td>158083.333333</td>\n",
       "      <td>183270.000000</td>\n",
       "      <td>452114.285714</td>\n",
       "      <td>868750.00</td>\n",
       "      <td>915000.000000</td>\n",
       "      <td>3880000</td>\n",
       "    </tr>\n",
       "  </tbody>\n",
       "</table>\n",
       "</div>"
      ],
      "text/plain": [
       "    player          quote  turning_point          roots        episode  \\\n",
       "0     イチロー  396333.333333   58266.666667   61378.333333  121500.000000   \n",
       "1  ダルビッシュ有  192300.000000   16450.000000   28821.666667   98567.142857   \n",
       "2     大谷翔平  814333.333333  158083.333333  183270.000000  452114.285714   \n",
       "\n",
       "   as_a_person    as_a_player  base_count  \n",
       "0    304875.00  595833.333333     2100000  \n",
       "1    117621.25  262150.000000      752000  \n",
       "2    868750.00  915000.000000     3880000  "
      ]
     },
     "execution_count": 9,
     "metadata": {},
     "output_type": "execute_result"
    }
   ],
   "source": [
    "df"
   ]
  },
  {
   "cell_type": "code",
   "execution_count": 10,
   "metadata": {},
   "outputs": [
    {
     "name": "stdout",
     "output_type": "stream",
     "text": [
      "[quote]\n",
      "0    0.188730\n",
      "1    0.255718\n",
      "2    0.209880\n",
      "dtype: float64\n",
      "\n",
      "[turning_point]\n",
      "0    0.027746\n",
      "1    0.021875\n",
      "2    0.040743\n",
      "dtype: float64\n",
      "\n",
      "[roots]\n",
      "0    0.029228\n",
      "1    0.038327\n",
      "2    0.047235\n",
      "dtype: float64\n",
      "\n",
      "[episode]\n",
      "0    0.057857\n",
      "1    0.131073\n",
      "2    0.116524\n",
      "dtype: float64\n",
      "\n",
      "[as_a_person]\n",
      "0    0.145179\n",
      "1    0.156411\n",
      "2    0.223905\n",
      "dtype: float64\n",
      "\n",
      "[as_a_player]\n",
      "0    0.283730\n",
      "1    0.348604\n",
      "2    0.235825\n",
      "dtype: float64\n",
      "\n"
     ]
    }
   ],
   "source": [
    "for col in target_names[1:]:\n",
    "    print(\"[{}]\".format(col))\n",
    "    print(df[col]/df['base_count'])\n",
    "    print()"
   ]
  },
  {
   "cell_type": "code",
   "execution_count": 17,
   "metadata": {},
   "outputs": [
    {
     "name": "stdout",
     "output_type": "stream",
     "text": [
      "13.359339004159253\n",
      "42.47985469792579\n",
      "47.17008790847837\n"
     ]
    }
   ],
   "source": [
    "print(sum(X[0]))\n",
    "print(sum(X[1]))\n",
    "print(sum(X[2]))"
   ]
  },
  {
   "cell_type": "code",
   "execution_count": null,
   "metadata": {},
   "outputs": [],
   "source": []
  }
 ],
 "metadata": {
  "kernelspec": {
   "display_name": "Python 3",
   "language": "python",
   "name": "python3"
  },
  "language_info": {
   "codemirror_mode": {
    "name": "ipython",
    "version": 3
   },
   "file_extension": ".py",
   "mimetype": "text/x-python",
   "name": "python",
   "nbconvert_exporter": "python",
   "pygments_lexer": "ipython3",
   "version": "3.6.5"
  }
 },
 "nbformat": 4,
 "nbformat_minor": 2
}
