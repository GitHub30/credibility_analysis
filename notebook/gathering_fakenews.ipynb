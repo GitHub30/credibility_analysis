{
 "cells": [
  {
   "cell_type": "code",
   "execution_count": 4,
   "metadata": {},
   "outputs": [],
   "source": [
    "from bs4 import BeautifulSoup\n",
    "import requests"
   ]
  },
  {
   "cell_type": "code",
   "execution_count": 10,
   "metadata": {},
   "outputs": [
    {
     "data": {
      "text/plain": [
       "<title>Google</title>"
      ]
     },
     "execution_count": 10,
     "metadata": {},
     "output_type": "execute_result"
    }
   ],
   "source": [
    "r = requests.get(\"http://www.google.com\")\n",
    "soup = BeautifulSoup(r.text, \"html.parser\")\n",
    "soup.find('title')"
   ]
  },
  {
   "cell_type": "code",
   "execution_count": 11,
   "metadata": {},
   "outputs": [
    {
     "data": {
      "text/plain": [
       "'\\nTRUE NEWS\\nhttps://mainichi.jp/\\nhttps://jp.reuters.com/\\nhttp://www.bbc.com/japanese\\nhttps://www.natureasia.com/ja-jp/ndigest/filters?section=nw\\nhttps://www.cnn.co.jp/world/35121615.html\\n'"
      ]
     },
     "execution_count": 11,
     "metadata": {},
     "output_type": "execute_result"
    }
   ],
   "source": [
    "\n",
    "\"\"\"\n",
    "FAKE NEWS\n",
    "target http://tocana.jp/\n",
    "target http://mnsatlas.com/\n",
    "https://nikkan-spa.jp/\n",
    "target http://kyoko-np.net/\n",
    "http://www.asyura2.com\n",
    "http://lite-ra.com/\n",
    "https://ironna.jp/\n",
    "\"\"\"\n",
    "\n",
    "\"\"\"\n",
    "TRUE NEWS\n",
    "https://mainichi.jp/\n",
    "target https://jp.reuters.com/\n",
    "target http://www.bbc.com/japanese\n",
    "https://www.natureasia.com/ja-jp/ndigest/filters?section=nw\n",
    "target https://www.cnn.co.jp/world/35121615.html\n",
    "\"\"\""
   ]
  },
  {
   "cell_type": "code",
   "execution_count": null,
   "metadata": {},
   "outputs": [],
   "source": [
    "r = requests.get(\"http://www.google.com\")\n",
    "soup = BeautifulSoup(r.text, \"html.parser\")\n",
    "soup.find('title')"
   ]
  },
  {
   "cell_type": "markdown",
   "metadata": {},
   "source": [
    "# スクレイピング"
   ]
  },
  {
   "cell_type": "code",
   "execution_count": 194,
   "metadata": {},
   "outputs": [],
   "source": [
    "class UrlGetter:\n",
    "    def __init__(self):\n",
    "        pass\n",
    "    \n",
    "    def get_tocana_url(self, year, month, page):\n",
    "        if isinstance(page, int) and isinstance(month, int) and isinstance(year, int):\n",
    "            if page==1:\n",
    "                filename = \"index.html\"\n",
    "            elif page > 1:\n",
    "                filename = \"index_{}.html\".format(page)\n",
    "            else:\n",
    "                filename = \"index.html\"\n",
    "            return \"http://tocana.jp/{}/{:02d}/{}\".format(year, month, filename)\n",
    "        else:\n",
    "            return False\n",
    "        \n",
    "    def get_kyoko_url(self, category_id):\n",
    "        categories = [\"national\", \"politics\", \"business\", \n",
    "                      \"sport\", \"international\", \"science\", \n",
    "                      \"culture\", \"entertainment\"]\n",
    "        return \"http://kyoko-np.net/{}.html\".format(categories[category_id])\n",
    "    \n",
    "    def get_atlas_url(self, category_id, page):\n",
    "        categories = [17, 23, 25, 3, 33, 6]\n",
    "        return \"http://mnsatlas.com/?cat_id={}&paged={}\".format(categories[category_id], page)\n",
    "    \n",
    "    def get_reuters_url(self, page):\n",
    "        return \"https://jp.reuters.com/news/archive/topNews?view=page&page={}&pageSize=10\".format(page)\n",
    "    \n",
    "    def get_cnn_url(self, category_id, page):\n",
    "        categories = [\"world\", \"usa\", \"business\", \"tech\", \"entertainment\"]\n",
    "        return \"https://www.cnn.co.jp/{}/{}/\".format(categories[category_id], page)\n",
    "        \n",
    "    def get_url(self, site_type, *params):\n",
    "        if site_type == \"tocana\":\n",
    "            return self.get_tocana_url(*params)\n",
    "        elif site_type == \"kyoko\":\n",
    "            return self.get_kyoko_url(*params)\n",
    "        elif site_type == \"atlas\":\n",
    "            return self.get_atlas_url(*params)\n",
    "        elif site_type == \"reuters\":\n",
    "            return self.get_reuters_url(*params)\n",
    "        elif site_type == \"cnn\":\n",
    "            return self.get_cnn_url(*params)"
   ]
  },
  {
   "cell_type": "code",
   "execution_count": 195,
   "metadata": {},
   "outputs": [],
   "source": [
    "urlgetter = UrlGetter()"
   ]
  },
  {
   "cell_type": "code",
   "execution_count": 198,
   "metadata": {},
   "outputs": [
    {
     "data": {
      "text/plain": [
       "'https://www.cnn.co.jp/tech/2/'"
      ]
     },
     "execution_count": 198,
     "metadata": {},
     "output_type": "execute_result"
    }
   ],
   "source": [
    "urlgetter.get_url(\"cnn\", 3,2)"
   ]
  },
  {
   "cell_type": "code",
   "execution_count": 200,
   "metadata": {},
   "outputs": [],
   "source": [
    "class ArticleGetter:\n",
    "    def __init__(self, base_url):\n",
    "        self.base_url = base_url\n",
    "        r = requests.get(base_url)\n",
    "        self.soup = BeautifulSoup(r.content, \"html.parser\")\n",
    "    \n",
    "    def get_tocana_articles(self):\n",
    "        tmp_results = self.soup.find_all(\"div\",attrs={\"class\":\"large\"})\n",
    "        tmp_results += self.soup.find_all(\"div\",attrs={\"class\":\"middleBox\"})\n",
    "        tmp_results += self.soup.find_all(\"div\",attrs={\"class\":\"small\"})\n",
    "        results = []\n",
    "        for tmp_result in tmp_results:\n",
    "            results += tmp_result.find_all(\"a\")\n",
    "        results = [result['href'] for result in set(results) if 'post' in result['href']]\n",
    "        return results\n",
    "    \n",
    "    def get_kyoko_articles(self):\n",
    "        results = []\n",
    "        for tmp_result in self.soup.find_all(\"section\", attrs={\"class\":\"genre\"}):\n",
    "            results += tmp_result.find_all(\"a\")\n",
    "        return [\"http://kyoko-np.net/\"+result['href'] for result in set(results) if result['href'].startswith(\"2\")]\n",
    "    \n",
    "    def get_atlas_articles(self):\n",
    "        results = []\n",
    "        for tmp_result in self.soup.find_all(\"h4\", attrs={\"class\":\"title\"}):\n",
    "            results += tmp_result.find_all(\"a\")\n",
    "        return [result['href'] for result in set(results)]\n",
    "    \n",
    "    def get_reuters_articles(self):\n",
    "        results = []\n",
    "        for tmp_result in self.soup.find_all(\"div\", attrs={\"class\":\"story-content\"}):\n",
    "            results += tmp_result.find_all(\"a\")\n",
    "        return [\"https://jp.reuters.com\"+result['href'] for result in set(results)]\n",
    "    \n",
    "    def get_cnn_articles(self):\n",
    "        results = []\n",
    "        url_list = self.soup.find(\"ul\", attrs={\"class\":\"list-news-line\"})\n",
    "        return [\"https://www.cnn.co.jp\"+result['href'] for result in set(url_list.find_all(\"a\"))]\n",
    "    \n",
    "    def get_articles(self, site_type):\n",
    "        if site_type == \"tocana\":\n",
    "            return self.get_tocana_articles()\n",
    "        if site_type == \"kyoko\":\n",
    "            return self.get_kyoko_articles()\n",
    "        if site_type == \"atlas\":\n",
    "            return self.get_atlas_articles()\n",
    "        if site_type == \"reuters\":\n",
    "            return self.get_reuters_articles()\n",
    "        if site_type == \"cnn\":\n",
    "            return self.get_cnn_articles()"
   ]
  },
  {
   "cell_type": "code",
   "execution_count": 202,
   "metadata": {},
   "outputs": [
    {
     "data": {
      "text/plain": [
       "['https://www.cnn.co.jp/usa/35121230.html',\n",
       " 'https://www.cnn.co.jp/usa/35121341.html',\n",
       " 'https://www.cnn.co.jp/usa/35121323.html']"
      ]
     },
     "execution_count": 202,
     "metadata": {},
     "output_type": "execute_result"
    }
   ],
   "source": [
    "base_url = urlgetter.get_url(\"cnn\", 1, 2)\n",
    "ArticleGetter(base_url).get_articles(\"cnn\")[:3]"
   ]
  },
  {
   "cell_type": "code",
   "execution_count": 165,
   "metadata": {},
   "outputs": [
    {
     "data": {
      "text/plain": [
       "'ビジネスJune 29, 2018 /  12:17 AM / 33 minutes ago更新カナダ、国内の鉄鋼・アルミ業界を支援へ\\u3000米の関税に対抗＝関係筋1 分で読む［オタワ\\u3000２８日\\u3000ロイター］ - カナダ政府は２９日、米国が導入した鉄鋼・アルミニウム製品への追加関税に対抗するため、国内の鉄鋼・アルミニウム産業と労働者を直接支援する計画を発表する。事情を知る関係者が２８日、匿名を条件に明らかにした。 \\u3000６月２８日、カナダ政府は、米国が導入した鉄鋼・アルミニウム製品への追加関税に対抗するため、国内の鉄鋼・アルミニウム産業と労働者を直接支援する計画を２９日に発表する。写真はカナダのフリーランド外相。ワシントンで１３日撮影（２０１８年\\u3000ロイター／YURI GRIPAS）支援規模は最大８億カナダドル（６億０３００万米ドル）の見通し。 フリーランド外相が２９日１５００ＧＭＴに鉄鋼業が盛んなハミルトンで支援計画を発表する予定。 カナダ政府はすでに、米国への対抗措置として、米国からの輸入品１６６億カナダドル相当に報復関税をかける方針を示している。関係者によると、外相は２９日にその対象品目のリストも公表する見通し。 外相は今月１９日、政府が国内の鉄鋼・アルミニウム産業、労働者を直接支援する方策を検討中だと明らかにしていた。 外相のオフィスはコメントの求めに応じていない。 関係者によると、鉄鋼・アルミ業界への支援策は複数年にわたる予定で、米政府の関税導入を受けて国内の針葉樹製材業界向けに昨年立ち上げた５年間にわたる８億６７００万カナダドル規模の支援策と似た内容になる見通し。 関係者は支援対象となる企業名は明かさなかった。私たちの行動規範：トムソン・ロイター「信頼の原則」'"
      ]
     },
     "execution_count": 165,
     "metadata": {},
     "output_type": "execute_result"
    }
   ],
   "source": [
    "base_url = urlgetter.get_url(\"reuters\", 1)\n",
    "test_url = ArticleGetter(base_url).get_articles(\"reuters\")[0]\n",
    "r = requests.get(test_url)\n",
    "soup = BeautifulSoup(r.content, \"html.parser\")\n",
    "target = soup.find(\"div\", attrs={\"data-template\":\"article_list\"})\n",
    "target = target.find(\"div\")\n",
    "target.find(\"div\").get_text()"
   ]
  },
  {
   "cell_type": "code",
   "execution_count": 208,
   "metadata": {},
   "outputs": [],
   "source": [
    "class ArticleExtractor:\n",
    "    def __init__(self, target_url):\n",
    "        self.target_url = target_url\n",
    "        r = requests.get(target_url)\n",
    "        self.soup = BeautifulSoup(r.content, \"html.parser\")\n",
    "        [s.extract() for s in self.soup('script')]\n",
    "        [s.extract() for s in self.soup('link')]\n",
    "        \n",
    "    def extract_tocana_article(self):\n",
    "        title = self.soup.find(\"h1\", attrs={\"itemprop\":\"headline\"}).get_text()\n",
    "        body = self.soup.find(\"div\", attrs={\"id\":\"entryBody\"}).get_text().replace('これは嘘ニュースです', '')\n",
    "        return title, body\n",
    "    \n",
    "    def extract_kyoko_article(self):\n",
    "        article = self.soup.find(\"article\")\n",
    "        title = article.find(\"h1\").get_text()\n",
    "        tmp = article.find('h1')\n",
    "        tmp.extract()\n",
    "        body = article.get_text()\n",
    "        return title, body\n",
    "    \n",
    "    def extract_atlas_article(self):\n",
    "        title = self.soup.find(\"h2\").get_text()\n",
    "        body = self.soup.find(\"div\", attrs={\"class\":\"post\"}).get_text()\n",
    "        return title, body\n",
    "    \n",
    "    def extract_reuters_article(self):\n",
    "        article = self.soup.find(\"div\", attrs={\"id\": self.target_url.split(\"-id\")[1]})\n",
    "        title = article.find(\"h1\").get_text()\n",
    "        tmp = article.find(\"h1\")\n",
    "        tmp.extract()\n",
    "        body = article.get_text()\n",
    "        return title, body\n",
    "    \n",
    "    def extract_cnn_article(self):\n",
    "        article = self.soup.find(\"article\")\n",
    "        title = article.find(\"h1\").get_text()\n",
    "        body = article.find(\"div\", attrs={\"id\": \"leaf-body\"}).get_text()\n",
    "        return title, body        \n",
    "    \n",
    "    def extract_article(self, site_type):\n",
    "        if site_type == \"tocana\":\n",
    "            title, body = self.extract_tocana_article()\n",
    "        elif site_type == \"kyoko\":\n",
    "            title, body = self.extract_kyoko_article()\n",
    "        elif site_type == \"atlas\":\n",
    "            title, body = self.extract_atlas_article()\n",
    "        elif site_type == \"reuters\":\n",
    "            title, body = self.extract_reuters_article()\n",
    "        elif site_type == \"cnn\":\n",
    "            title, body = self.extract_cnn_article()\n",
    "        title = title.replace(\"\\n\", \" \").replace(\"\\u3000\", \" \")\n",
    "        body = body.replace(\"\\n\", \" \").replace(\"\\u3000\", \" \")\n",
    "        return title, body"
   ]
  },
  {
   "cell_type": "code",
   "execution_count": 209,
   "metadata": {},
   "outputs": [
    {
     "data": {
      "text/plain": [
       "('ナジブ前首相宅などからの押収品、総額２４８億円相当 マレーシア',\n",
       " '  クアラルンプール（ＣＮＮ）\\xa0マレーシアの警察は２７日、ナジブ前首相の関係先から押収していた宝石類、現金、高級ブランドのバッグなどの総額が２億２５００万ドル（約２４８億円）を超えていることを明らかにした。 これらの金品は、５月に実施されたナジブ前首相の公邸などの一斉捜索で押収されたもの。前首相には、政府系ファンドの資金数十億ドルを不正流用した疑惑が浮上している。 警察が記者会見で明らかにしたところによれば、押収品の価値の内訳は宝石類が１億９００万ドル超、複数のエルメスのハンドバッグが約１２００万ドル分、現金とその他の高級品が１億ドル超などとなっている。 このうち最も高価な品は、ダイヤモンドをあしらった金のネックレスで１５０万ドル相当。 汚職体質が批判されていたナジブ前政権は、先の議会選挙でマハティール元首相率いる野党陣営に敗れていた。現在出国禁止処分を受けているナジブ前首相と妻のロスマ氏に対しては、マレーシア警察の商業犯罪捜査局（ＣＣＩＤ）が２７日にも聴取を行う予定。 前首相はいかなる不正行為も行っていないと主張している。  ')"
      ]
     },
     "execution_count": 209,
     "metadata": {},
     "output_type": "execute_result"
    }
   ],
   "source": [
    "target_site = \"cnn\"\n",
    "base_url = urlgetter.get_url(target_site, 0, 1)\n",
    "target_url = ArticleGetter(base_url).get_articles(target_site)[1]\n",
    "title, body = ArticleExtractor(target_url).extract_article(target_site)\n",
    "title, body"
   ]
  },
  {
   "cell_type": "code",
   "execution_count": 144,
   "metadata": {},
   "outputs": [
    {
     "data": {
      "application/vnd.jupyter.widget-view+json": {
       "model_id": "12b576975de849cba2342f1c91b7a5a0",
       "version_major": 2,
       "version_minor": 0
      },
      "text/plain": [
       "HBox(children=(IntProgress(value=0, max=10), HTML(value='')))"
      ]
     },
     "metadata": {},
     "output_type": "display_data"
    },
    {
     "name": "stdout",
     "output_type": "stream",
     "text": [
      "\n"
     ]
    },
    {
     "data": {
      "application/vnd.jupyter.widget-view+json": {
       "model_id": "a63f141fa79c49a7a00c99c194c823ea",
       "version_major": 2,
       "version_minor": 0
      },
      "text/plain": [
       "HBox(children=(IntProgress(value=0, max=10), HTML(value='')))"
      ]
     },
     "metadata": {},
     "output_type": "display_data"
    },
    {
     "name": "stdout",
     "output_type": "stream",
     "text": [
      "\n"
     ]
    },
    {
     "data": {
      "application/vnd.jupyter.widget-view+json": {
       "model_id": "aae3d9568b6f4c2e9bc87902cef0be9f",
       "version_major": 2,
       "version_minor": 0
      },
      "text/plain": [
       "HBox(children=(IntProgress(value=0, max=7), HTML(value='')))"
      ]
     },
     "metadata": {},
     "output_type": "display_data"
    },
    {
     "name": "stdout",
     "output_type": "stream",
     "text": [
      "\n"
     ]
    },
    {
     "data": {
      "application/vnd.jupyter.widget-view+json": {
       "model_id": "5d00b2d6da3c4e71b8a87beb861505ff",
       "version_major": 2,
       "version_minor": 0
      },
      "text/plain": [
       "HBox(children=(IntProgress(value=0, max=20), HTML(value='')))"
      ]
     },
     "metadata": {},
     "output_type": "display_data"
    },
    {
     "name": "stdout",
     "output_type": "stream",
     "text": [
      "\n"
     ]
    },
    {
     "data": {
      "application/vnd.jupyter.widget-view+json": {
       "model_id": "756ac6b9bcaa46658d350ce02375bac6",
       "version_major": 2,
       "version_minor": 0
      },
      "text/plain": [
       "HBox(children=(IntProgress(value=0, max=20), HTML(value='')))"
      ]
     },
     "metadata": {},
     "output_type": "display_data"
    },
    {
     "name": "stdout",
     "output_type": "stream",
     "text": [
      "\n"
     ]
    }
   ],
   "source": [
    "from tqdm import tqdm_notebook\n",
    "results = []\n",
    "names = [\"tocana\", \"tocana\", \"kyoko\", \"atlas\", \"atlas\"]\n",
    "params = [\n",
    "    [2017, 12],\n",
    "    [2017, 11],\n",
    "    [],\n",
    "    [0],\n",
    "    [1]\n",
    "]\n",
    "\n",
    "pages = [\n",
    "    10,\n",
    "    10,\n",
    "    7,\n",
    "    20,\n",
    "    20    \n",
    "]\n",
    "\n",
    "\n",
    "for name, param, page_len in zip(names, params, pages):\n",
    "    for i in tqdm_notebook(range(page_len)):\n",
    "        base_url = urlgetter.get_url(name, *param, i+1)\n",
    "        for article_url in ArticleGetter(base_url).get_articles(name):\n",
    "            title, body = ArticleExtractor(article_url).extract_article(name)\n",
    "            results.append({\"title\":title, \"body\":body, \"url\": article_url})"
   ]
  },
  {
   "cell_type": "code",
   "execution_count": 145,
   "metadata": {},
   "outputs": [
    {
     "data": {
      "text/plain": [
       "1451"
      ]
     },
     "execution_count": 145,
     "metadata": {},
     "output_type": "execute_result"
    }
   ],
   "source": [
    "len(results)"
   ]
  },
  {
   "cell_type": "code",
   "execution_count": 147,
   "metadata": {},
   "outputs": [],
   "source": [
    "import pandas as pd\n",
    "df = pd.DataFrame(results)"
   ]
  },
  {
   "cell_type": "code",
   "execution_count": 150,
   "metadata": {},
   "outputs": [],
   "source": [
    "df.to_csv(\"fake_news.csv\")"
   ]
  },
  {
   "cell_type": "code",
   "execution_count": 210,
   "metadata": {},
   "outputs": [
    {
     "data": {
      "application/vnd.jupyter.widget-view+json": {
       "model_id": "49f3bb9e72914d4c8a6abc24c5eb343c",
       "version_major": 2,
       "version_minor": 0
      },
      "text/plain": [
       "HBox(children=(IntProgress(value=0, max=50), HTML(value='')))"
      ]
     },
     "metadata": {},
     "output_type": "display_data"
    },
    {
     "data": {
      "application/vnd.jupyter.widget-view+json": {
       "model_id": "385a3358bf654ff5b3d93f885df6b254",
       "version_major": 2,
       "version_minor": 0
      },
      "text/plain": [
       "HBox(children=(IntProgress(value=0, max=50), HTML(value='')))"
      ]
     },
     "metadata": {},
     "output_type": "display_data"
    },
    {
     "data": {
      "application/vnd.jupyter.widget-view+json": {
       "model_id": "0b7c572e6b10451b997bf80f060b3291",
       "version_major": 2,
       "version_minor": 0
      },
      "text/plain": [
       "HBox(children=(IntProgress(value=0, max=50), HTML(value='')))"
      ]
     },
     "metadata": {},
     "output_type": "display_data"
    },
    {
     "data": {
      "application/vnd.jupyter.widget-view+json": {
       "model_id": "95ddd3b8ecd046c99614b633b911cb85",
       "version_major": 2,
       "version_minor": 0
      },
      "text/plain": [
       "HBox(children=(IntProgress(value=0, max=50), HTML(value='')))"
      ]
     },
     "metadata": {},
     "output_type": "display_data"
    },
    {
     "ename": "SSLError",
     "evalue": "HTTPSConnectionPool(host='www.cnn.co.jp', port=443): Max retries exceeded with url: /business/35121473.html (Caused by SSLError(SSLError(\"bad handshake: SysCallError(-1, 'Unexpected EOF')\",),))",
     "output_type": "error",
     "traceback": [
      "\u001b[0;31m---------------------------------------------------------------------------\u001b[0m",
      "\u001b[0;31mSysCallError\u001b[0m                              Traceback (most recent call last)",
      "\u001b[0;32m/opt/conda/lib/python3.6/site-packages/urllib3/contrib/pyopenssl.py\u001b[0m in \u001b[0;36mwrap_socket\u001b[0;34m(self, sock, server_side, do_handshake_on_connect, suppress_ragged_eofs, server_hostname)\u001b[0m\n\u001b[1;32m    440\u001b[0m             \u001b[0;32mtry\u001b[0m\u001b[0;34m:\u001b[0m\u001b[0;34m\u001b[0m\u001b[0m\n\u001b[0;32m--> 441\u001b[0;31m                 \u001b[0mcnx\u001b[0m\u001b[0;34m.\u001b[0m\u001b[0mdo_handshake\u001b[0m\u001b[0;34m(\u001b[0m\u001b[0;34m)\u001b[0m\u001b[0;34m\u001b[0m\u001b[0m\n\u001b[0m\u001b[1;32m    442\u001b[0m             \u001b[0;32mexcept\u001b[0m \u001b[0mOpenSSL\u001b[0m\u001b[0;34m.\u001b[0m\u001b[0mSSL\u001b[0m\u001b[0;34m.\u001b[0m\u001b[0mWantReadError\u001b[0m\u001b[0;34m:\u001b[0m\u001b[0;34m\u001b[0m\u001b[0m\n",
      "\u001b[0;32m/opt/conda/lib/python3.6/site-packages/OpenSSL/SSL.py\u001b[0m in \u001b[0;36mdo_handshake\u001b[0;34m(self)\u001b[0m\n\u001b[1;32m   1906\u001b[0m         \u001b[0mresult\u001b[0m \u001b[0;34m=\u001b[0m \u001b[0m_lib\u001b[0m\u001b[0;34m.\u001b[0m\u001b[0mSSL_do_handshake\u001b[0m\u001b[0;34m(\u001b[0m\u001b[0mself\u001b[0m\u001b[0;34m.\u001b[0m\u001b[0m_ssl\u001b[0m\u001b[0;34m)\u001b[0m\u001b[0;34m\u001b[0m\u001b[0m\n\u001b[0;32m-> 1907\u001b[0;31m         \u001b[0mself\u001b[0m\u001b[0;34m.\u001b[0m\u001b[0m_raise_ssl_error\u001b[0m\u001b[0;34m(\u001b[0m\u001b[0mself\u001b[0m\u001b[0;34m.\u001b[0m\u001b[0m_ssl\u001b[0m\u001b[0;34m,\u001b[0m \u001b[0mresult\u001b[0m\u001b[0;34m)\u001b[0m\u001b[0;34m\u001b[0m\u001b[0m\n\u001b[0m\u001b[1;32m   1908\u001b[0m \u001b[0;34m\u001b[0m\u001b[0m\n",
      "\u001b[0;32m/opt/conda/lib/python3.6/site-packages/OpenSSL/SSL.py\u001b[0m in \u001b[0;36m_raise_ssl_error\u001b[0;34m(self, ssl, result)\u001b[0m\n\u001b[1;32m   1631\u001b[0m                         \u001b[0;32mraise\u001b[0m \u001b[0mSysCallError\u001b[0m\u001b[0;34m(\u001b[0m\u001b[0merrno\u001b[0m\u001b[0;34m,\u001b[0m \u001b[0merrorcode\u001b[0m\u001b[0;34m.\u001b[0m\u001b[0mget\u001b[0m\u001b[0;34m(\u001b[0m\u001b[0merrno\u001b[0m\u001b[0;34m)\u001b[0m\u001b[0;34m)\u001b[0m\u001b[0;34m\u001b[0m\u001b[0m\n\u001b[0;32m-> 1632\u001b[0;31m                 \u001b[0;32mraise\u001b[0m \u001b[0mSysCallError\u001b[0m\u001b[0;34m(\u001b[0m\u001b[0;34m-\u001b[0m\u001b[0;36m1\u001b[0m\u001b[0;34m,\u001b[0m \u001b[0;34m\"Unexpected EOF\"\u001b[0m\u001b[0;34m)\u001b[0m\u001b[0;34m\u001b[0m\u001b[0m\n\u001b[0m\u001b[1;32m   1633\u001b[0m             \u001b[0;32melse\u001b[0m\u001b[0;34m:\u001b[0m\u001b[0;34m\u001b[0m\u001b[0m\n",
      "\u001b[0;31mSysCallError\u001b[0m: (-1, 'Unexpected EOF')",
      "\nDuring handling of the above exception, another exception occurred:\n",
      "\u001b[0;31mSSLError\u001b[0m                                  Traceback (most recent call last)",
      "\u001b[0;32m/opt/conda/lib/python3.6/site-packages/urllib3/connectionpool.py\u001b[0m in \u001b[0;36murlopen\u001b[0;34m(self, method, url, body, headers, retries, redirect, assert_same_host, timeout, pool_timeout, release_conn, chunked, body_pos, **response_kw)\u001b[0m\n\u001b[1;32m    600\u001b[0m                                                   \u001b[0mbody\u001b[0m\u001b[0;34m=\u001b[0m\u001b[0mbody\u001b[0m\u001b[0;34m,\u001b[0m \u001b[0mheaders\u001b[0m\u001b[0;34m=\u001b[0m\u001b[0mheaders\u001b[0m\u001b[0;34m,\u001b[0m\u001b[0;34m\u001b[0m\u001b[0m\n\u001b[0;32m--> 601\u001b[0;31m                                                   chunked=chunked)\n\u001b[0m\u001b[1;32m    602\u001b[0m \u001b[0;34m\u001b[0m\u001b[0m\n",
      "\u001b[0;32m/opt/conda/lib/python3.6/site-packages/urllib3/connectionpool.py\u001b[0m in \u001b[0;36m_make_request\u001b[0;34m(self, conn, method, url, timeout, chunked, **httplib_request_kw)\u001b[0m\n\u001b[1;32m    345\u001b[0m         \u001b[0;32mtry\u001b[0m\u001b[0;34m:\u001b[0m\u001b[0;34m\u001b[0m\u001b[0m\n\u001b[0;32m--> 346\u001b[0;31m             \u001b[0mself\u001b[0m\u001b[0;34m.\u001b[0m\u001b[0m_validate_conn\u001b[0m\u001b[0;34m(\u001b[0m\u001b[0mconn\u001b[0m\u001b[0;34m)\u001b[0m\u001b[0;34m\u001b[0m\u001b[0m\n\u001b[0m\u001b[1;32m    347\u001b[0m         \u001b[0;32mexcept\u001b[0m \u001b[0;34m(\u001b[0m\u001b[0mSocketTimeout\u001b[0m\u001b[0;34m,\u001b[0m \u001b[0mBaseSSLError\u001b[0m\u001b[0;34m)\u001b[0m \u001b[0;32mas\u001b[0m \u001b[0me\u001b[0m\u001b[0;34m:\u001b[0m\u001b[0;34m\u001b[0m\u001b[0m\n",
      "\u001b[0;32m/opt/conda/lib/python3.6/site-packages/urllib3/connectionpool.py\u001b[0m in \u001b[0;36m_validate_conn\u001b[0;34m(self, conn)\u001b[0m\n\u001b[1;32m    849\u001b[0m         \u001b[0;32mif\u001b[0m \u001b[0;32mnot\u001b[0m \u001b[0mgetattr\u001b[0m\u001b[0;34m(\u001b[0m\u001b[0mconn\u001b[0m\u001b[0;34m,\u001b[0m \u001b[0;34m'sock'\u001b[0m\u001b[0;34m,\u001b[0m \u001b[0;32mNone\u001b[0m\u001b[0;34m)\u001b[0m\u001b[0;34m:\u001b[0m  \u001b[0;31m# AppEngine might not have  `.sock`\u001b[0m\u001b[0;34m\u001b[0m\u001b[0m\n\u001b[0;32m--> 850\u001b[0;31m             \u001b[0mconn\u001b[0m\u001b[0;34m.\u001b[0m\u001b[0mconnect\u001b[0m\u001b[0;34m(\u001b[0m\u001b[0;34m)\u001b[0m\u001b[0;34m\u001b[0m\u001b[0m\n\u001b[0m\u001b[1;32m    851\u001b[0m \u001b[0;34m\u001b[0m\u001b[0m\n",
      "\u001b[0;32m/opt/conda/lib/python3.6/site-packages/urllib3/connection.py\u001b[0m in \u001b[0;36mconnect\u001b[0;34m(self)\u001b[0m\n\u001b[1;32m    325\u001b[0m             \u001b[0mserver_hostname\u001b[0m\u001b[0;34m=\u001b[0m\u001b[0mhostname\u001b[0m\u001b[0;34m,\u001b[0m\u001b[0;34m\u001b[0m\u001b[0m\n\u001b[0;32m--> 326\u001b[0;31m             ssl_context=context)\n\u001b[0m\u001b[1;32m    327\u001b[0m \u001b[0;34m\u001b[0m\u001b[0m\n",
      "\u001b[0;32m/opt/conda/lib/python3.6/site-packages/urllib3/util/ssl_.py\u001b[0m in \u001b[0;36mssl_wrap_socket\u001b[0;34m(sock, keyfile, certfile, cert_reqs, ca_certs, server_hostname, ssl_version, ciphers, ssl_context, ca_cert_dir)\u001b[0m\n\u001b[1;32m    328\u001b[0m     \u001b[0;32mif\u001b[0m \u001b[0mHAS_SNI\u001b[0m\u001b[0;34m:\u001b[0m  \u001b[0;31m# Platform-specific: OpenSSL with enabled SNI\u001b[0m\u001b[0;34m\u001b[0m\u001b[0m\n\u001b[0;32m--> 329\u001b[0;31m         \u001b[0;32mreturn\u001b[0m \u001b[0mcontext\u001b[0m\u001b[0;34m.\u001b[0m\u001b[0mwrap_socket\u001b[0m\u001b[0;34m(\u001b[0m\u001b[0msock\u001b[0m\u001b[0;34m,\u001b[0m \u001b[0mserver_hostname\u001b[0m\u001b[0;34m=\u001b[0m\u001b[0mserver_hostname\u001b[0m\u001b[0;34m)\u001b[0m\u001b[0;34m\u001b[0m\u001b[0m\n\u001b[0m\u001b[1;32m    330\u001b[0m \u001b[0;34m\u001b[0m\u001b[0m\n",
      "\u001b[0;32m/opt/conda/lib/python3.6/site-packages/urllib3/contrib/pyopenssl.py\u001b[0m in \u001b[0;36mwrap_socket\u001b[0;34m(self, sock, server_side, do_handshake_on_connect, suppress_ragged_eofs, server_hostname)\u001b[0m\n\u001b[1;32m    447\u001b[0m             \u001b[0;32mexcept\u001b[0m \u001b[0mOpenSSL\u001b[0m\u001b[0;34m.\u001b[0m\u001b[0mSSL\u001b[0m\u001b[0;34m.\u001b[0m\u001b[0mError\u001b[0m \u001b[0;32mas\u001b[0m \u001b[0me\u001b[0m\u001b[0;34m:\u001b[0m\u001b[0;34m\u001b[0m\u001b[0m\n\u001b[0;32m--> 448\u001b[0;31m                 \u001b[0;32mraise\u001b[0m \u001b[0mssl\u001b[0m\u001b[0;34m.\u001b[0m\u001b[0mSSLError\u001b[0m\u001b[0;34m(\u001b[0m\u001b[0;34m'bad handshake: %r'\u001b[0m \u001b[0;34m%\u001b[0m \u001b[0me\u001b[0m\u001b[0;34m)\u001b[0m\u001b[0;34m\u001b[0m\u001b[0m\n\u001b[0m\u001b[1;32m    449\u001b[0m             \u001b[0;32mbreak\u001b[0m\u001b[0;34m\u001b[0m\u001b[0m\n",
      "\u001b[0;31mSSLError\u001b[0m: (\"bad handshake: SysCallError(-1, 'Unexpected EOF')\",)",
      "\nDuring handling of the above exception, another exception occurred:\n",
      "\u001b[0;31mMaxRetryError\u001b[0m                             Traceback (most recent call last)",
      "\u001b[0;32m/opt/conda/lib/python3.6/site-packages/requests/adapters.py\u001b[0m in \u001b[0;36msend\u001b[0;34m(self, request, stream, timeout, verify, cert, proxies)\u001b[0m\n\u001b[1;32m    439\u001b[0m                     \u001b[0mretries\u001b[0m\u001b[0;34m=\u001b[0m\u001b[0mself\u001b[0m\u001b[0;34m.\u001b[0m\u001b[0mmax_retries\u001b[0m\u001b[0;34m,\u001b[0m\u001b[0;34m\u001b[0m\u001b[0m\n\u001b[0;32m--> 440\u001b[0;31m                     \u001b[0mtimeout\u001b[0m\u001b[0;34m=\u001b[0m\u001b[0mtimeout\u001b[0m\u001b[0;34m\u001b[0m\u001b[0m\n\u001b[0m\u001b[1;32m    441\u001b[0m                 )\n",
      "\u001b[0;32m/opt/conda/lib/python3.6/site-packages/urllib3/connectionpool.py\u001b[0m in \u001b[0;36murlopen\u001b[0;34m(self, method, url, body, headers, retries, redirect, assert_same_host, timeout, pool_timeout, release_conn, chunked, body_pos, **response_kw)\u001b[0m\n\u001b[1;32m    638\u001b[0m             retries = retries.increment(method, url, error=e, _pool=self,\n\u001b[0;32m--> 639\u001b[0;31m                                         _stacktrace=sys.exc_info()[2])\n\u001b[0m\u001b[1;32m    640\u001b[0m             \u001b[0mretries\u001b[0m\u001b[0;34m.\u001b[0m\u001b[0msleep\u001b[0m\u001b[0;34m(\u001b[0m\u001b[0;34m)\u001b[0m\u001b[0;34m\u001b[0m\u001b[0m\n",
      "\u001b[0;32m/opt/conda/lib/python3.6/site-packages/urllib3/util/retry.py\u001b[0m in \u001b[0;36mincrement\u001b[0;34m(self, method, url, response, error, _pool, _stacktrace)\u001b[0m\n\u001b[1;32m    387\u001b[0m         \u001b[0;32mif\u001b[0m \u001b[0mnew_retry\u001b[0m\u001b[0;34m.\u001b[0m\u001b[0mis_exhausted\u001b[0m\u001b[0;34m(\u001b[0m\u001b[0;34m)\u001b[0m\u001b[0;34m:\u001b[0m\u001b[0;34m\u001b[0m\u001b[0m\n\u001b[0;32m--> 388\u001b[0;31m             \u001b[0;32mraise\u001b[0m \u001b[0mMaxRetryError\u001b[0m\u001b[0;34m(\u001b[0m\u001b[0m_pool\u001b[0m\u001b[0;34m,\u001b[0m \u001b[0murl\u001b[0m\u001b[0;34m,\u001b[0m \u001b[0merror\u001b[0m \u001b[0;32mor\u001b[0m \u001b[0mResponseError\u001b[0m\u001b[0;34m(\u001b[0m\u001b[0mcause\u001b[0m\u001b[0;34m)\u001b[0m\u001b[0;34m)\u001b[0m\u001b[0;34m\u001b[0m\u001b[0m\n\u001b[0m\u001b[1;32m    389\u001b[0m \u001b[0;34m\u001b[0m\u001b[0m\n",
      "\u001b[0;31mMaxRetryError\u001b[0m: HTTPSConnectionPool(host='www.cnn.co.jp', port=443): Max retries exceeded with url: /business/35121473.html (Caused by SSLError(SSLError(\"bad handshake: SysCallError(-1, 'Unexpected EOF')\",),))",
      "\nDuring handling of the above exception, another exception occurred:\n",
      "\u001b[0;31mSSLError\u001b[0m                                  Traceback (most recent call last)",
      "\u001b[0;32m<ipython-input-210-8d27aec47e04>\u001b[0m in \u001b[0;36m<module>\u001b[0;34m()\u001b[0m\n\u001b[1;32m     25\u001b[0m         \u001b[0mbase_url\u001b[0m \u001b[0;34m=\u001b[0m \u001b[0murlgetter\u001b[0m\u001b[0;34m.\u001b[0m\u001b[0mget_url\u001b[0m\u001b[0;34m(\u001b[0m\u001b[0mname\u001b[0m\u001b[0;34m,\u001b[0m \u001b[0;34m*\u001b[0m\u001b[0mparam\u001b[0m\u001b[0;34m,\u001b[0m \u001b[0mi\u001b[0m\u001b[0;34m+\u001b[0m\u001b[0;36m1\u001b[0m\u001b[0;34m)\u001b[0m\u001b[0;34m\u001b[0m\u001b[0m\n\u001b[1;32m     26\u001b[0m         \u001b[0;32mfor\u001b[0m \u001b[0marticle_url\u001b[0m \u001b[0;32min\u001b[0m \u001b[0mArticleGetter\u001b[0m\u001b[0;34m(\u001b[0m\u001b[0mbase_url\u001b[0m\u001b[0;34m)\u001b[0m\u001b[0;34m.\u001b[0m\u001b[0mget_articles\u001b[0m\u001b[0;34m(\u001b[0m\u001b[0mname\u001b[0m\u001b[0;34m)\u001b[0m\u001b[0;34m:\u001b[0m\u001b[0;34m\u001b[0m\u001b[0m\n\u001b[0;32m---> 27\u001b[0;31m             \u001b[0mtitle\u001b[0m\u001b[0;34m,\u001b[0m \u001b[0mbody\u001b[0m \u001b[0;34m=\u001b[0m \u001b[0mArticleExtractor\u001b[0m\u001b[0;34m(\u001b[0m\u001b[0marticle_url\u001b[0m\u001b[0;34m)\u001b[0m\u001b[0;34m.\u001b[0m\u001b[0mextract_article\u001b[0m\u001b[0;34m(\u001b[0m\u001b[0mname\u001b[0m\u001b[0;34m)\u001b[0m\u001b[0;34m\u001b[0m\u001b[0m\n\u001b[0m\u001b[1;32m     28\u001b[0m             \u001b[0mresults\u001b[0m\u001b[0;34m.\u001b[0m\u001b[0mappend\u001b[0m\u001b[0;34m(\u001b[0m\u001b[0;34m{\u001b[0m\u001b[0;34m\"title\"\u001b[0m\u001b[0;34m:\u001b[0m\u001b[0mtitle\u001b[0m\u001b[0;34m,\u001b[0m \u001b[0;34m\"body\"\u001b[0m\u001b[0;34m:\u001b[0m\u001b[0mbody\u001b[0m\u001b[0;34m,\u001b[0m \u001b[0;34m\"url\"\u001b[0m\u001b[0;34m:\u001b[0m \u001b[0marticle_url\u001b[0m\u001b[0;34m}\u001b[0m\u001b[0;34m)\u001b[0m\u001b[0;34m\u001b[0m\u001b[0m\n",
      "\u001b[0;32m<ipython-input-208-d673cfb83b20>\u001b[0m in \u001b[0;36m__init__\u001b[0;34m(self, target_url)\u001b[0m\n\u001b[1;32m      2\u001b[0m     \u001b[0;32mdef\u001b[0m \u001b[0m__init__\u001b[0m\u001b[0;34m(\u001b[0m\u001b[0mself\u001b[0m\u001b[0;34m,\u001b[0m \u001b[0mtarget_url\u001b[0m\u001b[0;34m)\u001b[0m\u001b[0;34m:\u001b[0m\u001b[0;34m\u001b[0m\u001b[0m\n\u001b[1;32m      3\u001b[0m         \u001b[0mself\u001b[0m\u001b[0;34m.\u001b[0m\u001b[0mtarget_url\u001b[0m \u001b[0;34m=\u001b[0m \u001b[0mtarget_url\u001b[0m\u001b[0;34m\u001b[0m\u001b[0m\n\u001b[0;32m----> 4\u001b[0;31m         \u001b[0mr\u001b[0m \u001b[0;34m=\u001b[0m \u001b[0mrequests\u001b[0m\u001b[0;34m.\u001b[0m\u001b[0mget\u001b[0m\u001b[0;34m(\u001b[0m\u001b[0mtarget_url\u001b[0m\u001b[0;34m)\u001b[0m\u001b[0;34m\u001b[0m\u001b[0m\n\u001b[0m\u001b[1;32m      5\u001b[0m         \u001b[0mself\u001b[0m\u001b[0;34m.\u001b[0m\u001b[0msoup\u001b[0m \u001b[0;34m=\u001b[0m \u001b[0mBeautifulSoup\u001b[0m\u001b[0;34m(\u001b[0m\u001b[0mr\u001b[0m\u001b[0;34m.\u001b[0m\u001b[0mcontent\u001b[0m\u001b[0;34m,\u001b[0m \u001b[0;34m\"html.parser\"\u001b[0m\u001b[0;34m)\u001b[0m\u001b[0;34m\u001b[0m\u001b[0m\n\u001b[1;32m      6\u001b[0m         \u001b[0;34m[\u001b[0m\u001b[0ms\u001b[0m\u001b[0;34m.\u001b[0m\u001b[0mextract\u001b[0m\u001b[0;34m(\u001b[0m\u001b[0;34m)\u001b[0m \u001b[0;32mfor\u001b[0m \u001b[0ms\u001b[0m \u001b[0;32min\u001b[0m \u001b[0mself\u001b[0m\u001b[0;34m.\u001b[0m\u001b[0msoup\u001b[0m\u001b[0;34m(\u001b[0m\u001b[0;34m'script'\u001b[0m\u001b[0;34m)\u001b[0m\u001b[0;34m]\u001b[0m\u001b[0;34m\u001b[0m\u001b[0m\n",
      "\u001b[0;32m/opt/conda/lib/python3.6/site-packages/requests/api.py\u001b[0m in \u001b[0;36mget\u001b[0;34m(url, params, **kwargs)\u001b[0m\n\u001b[1;32m     70\u001b[0m \u001b[0;34m\u001b[0m\u001b[0m\n\u001b[1;32m     71\u001b[0m     \u001b[0mkwargs\u001b[0m\u001b[0;34m.\u001b[0m\u001b[0msetdefault\u001b[0m\u001b[0;34m(\u001b[0m\u001b[0;34m'allow_redirects'\u001b[0m\u001b[0;34m,\u001b[0m \u001b[0;32mTrue\u001b[0m\u001b[0;34m)\u001b[0m\u001b[0;34m\u001b[0m\u001b[0m\n\u001b[0;32m---> 72\u001b[0;31m     \u001b[0;32mreturn\u001b[0m \u001b[0mrequest\u001b[0m\u001b[0;34m(\u001b[0m\u001b[0;34m'get'\u001b[0m\u001b[0;34m,\u001b[0m \u001b[0murl\u001b[0m\u001b[0;34m,\u001b[0m \u001b[0mparams\u001b[0m\u001b[0;34m=\u001b[0m\u001b[0mparams\u001b[0m\u001b[0;34m,\u001b[0m \u001b[0;34m**\u001b[0m\u001b[0mkwargs\u001b[0m\u001b[0;34m)\u001b[0m\u001b[0;34m\u001b[0m\u001b[0m\n\u001b[0m\u001b[1;32m     73\u001b[0m \u001b[0;34m\u001b[0m\u001b[0m\n\u001b[1;32m     74\u001b[0m \u001b[0;34m\u001b[0m\u001b[0m\n",
      "\u001b[0;32m/opt/conda/lib/python3.6/site-packages/requests/api.py\u001b[0m in \u001b[0;36mrequest\u001b[0;34m(method, url, **kwargs)\u001b[0m\n\u001b[1;32m     56\u001b[0m     \u001b[0;31m# cases, and look like a memory leak in others.\u001b[0m\u001b[0;34m\u001b[0m\u001b[0;34m\u001b[0m\u001b[0m\n\u001b[1;32m     57\u001b[0m     \u001b[0;32mwith\u001b[0m \u001b[0msessions\u001b[0m\u001b[0;34m.\u001b[0m\u001b[0mSession\u001b[0m\u001b[0;34m(\u001b[0m\u001b[0;34m)\u001b[0m \u001b[0;32mas\u001b[0m \u001b[0msession\u001b[0m\u001b[0;34m:\u001b[0m\u001b[0;34m\u001b[0m\u001b[0m\n\u001b[0;32m---> 58\u001b[0;31m         \u001b[0;32mreturn\u001b[0m \u001b[0msession\u001b[0m\u001b[0;34m.\u001b[0m\u001b[0mrequest\u001b[0m\u001b[0;34m(\u001b[0m\u001b[0mmethod\u001b[0m\u001b[0;34m=\u001b[0m\u001b[0mmethod\u001b[0m\u001b[0;34m,\u001b[0m \u001b[0murl\u001b[0m\u001b[0;34m=\u001b[0m\u001b[0murl\u001b[0m\u001b[0;34m,\u001b[0m \u001b[0;34m**\u001b[0m\u001b[0mkwargs\u001b[0m\u001b[0;34m)\u001b[0m\u001b[0;34m\u001b[0m\u001b[0m\n\u001b[0m\u001b[1;32m     59\u001b[0m \u001b[0;34m\u001b[0m\u001b[0m\n\u001b[1;32m     60\u001b[0m \u001b[0;34m\u001b[0m\u001b[0m\n",
      "\u001b[0;32m/opt/conda/lib/python3.6/site-packages/requests/sessions.py\u001b[0m in \u001b[0;36mrequest\u001b[0;34m(self, method, url, params, data, headers, cookies, files, auth, timeout, allow_redirects, proxies, hooks, stream, verify, cert, json)\u001b[0m\n\u001b[1;32m    506\u001b[0m         }\n\u001b[1;32m    507\u001b[0m         \u001b[0msend_kwargs\u001b[0m\u001b[0;34m.\u001b[0m\u001b[0mupdate\u001b[0m\u001b[0;34m(\u001b[0m\u001b[0msettings\u001b[0m\u001b[0;34m)\u001b[0m\u001b[0;34m\u001b[0m\u001b[0m\n\u001b[0;32m--> 508\u001b[0;31m         \u001b[0mresp\u001b[0m \u001b[0;34m=\u001b[0m \u001b[0mself\u001b[0m\u001b[0;34m.\u001b[0m\u001b[0msend\u001b[0m\u001b[0;34m(\u001b[0m\u001b[0mprep\u001b[0m\u001b[0;34m,\u001b[0m \u001b[0;34m**\u001b[0m\u001b[0msend_kwargs\u001b[0m\u001b[0;34m)\u001b[0m\u001b[0;34m\u001b[0m\u001b[0m\n\u001b[0m\u001b[1;32m    509\u001b[0m \u001b[0;34m\u001b[0m\u001b[0m\n\u001b[1;32m    510\u001b[0m         \u001b[0;32mreturn\u001b[0m \u001b[0mresp\u001b[0m\u001b[0;34m\u001b[0m\u001b[0m\n",
      "\u001b[0;32m/opt/conda/lib/python3.6/site-packages/requests/sessions.py\u001b[0m in \u001b[0;36msend\u001b[0;34m(self, request, **kwargs)\u001b[0m\n\u001b[1;32m    616\u001b[0m \u001b[0;34m\u001b[0m\u001b[0m\n\u001b[1;32m    617\u001b[0m         \u001b[0;31m# Send the request\u001b[0m\u001b[0;34m\u001b[0m\u001b[0;34m\u001b[0m\u001b[0m\n\u001b[0;32m--> 618\u001b[0;31m         \u001b[0mr\u001b[0m \u001b[0;34m=\u001b[0m \u001b[0madapter\u001b[0m\u001b[0;34m.\u001b[0m\u001b[0msend\u001b[0m\u001b[0;34m(\u001b[0m\u001b[0mrequest\u001b[0m\u001b[0;34m,\u001b[0m \u001b[0;34m**\u001b[0m\u001b[0mkwargs\u001b[0m\u001b[0;34m)\u001b[0m\u001b[0;34m\u001b[0m\u001b[0m\n\u001b[0m\u001b[1;32m    619\u001b[0m \u001b[0;34m\u001b[0m\u001b[0m\n\u001b[1;32m    620\u001b[0m         \u001b[0;31m# Total elapsed time of the request (approximately)\u001b[0m\u001b[0;34m\u001b[0m\u001b[0;34m\u001b[0m\u001b[0m\n",
      "\u001b[0;32m/opt/conda/lib/python3.6/site-packages/requests/adapters.py\u001b[0m in \u001b[0;36msend\u001b[0;34m(self, request, stream, timeout, verify, cert, proxies)\u001b[0m\n\u001b[1;32m    504\u001b[0m             \u001b[0;32mif\u001b[0m \u001b[0misinstance\u001b[0m\u001b[0;34m(\u001b[0m\u001b[0me\u001b[0m\u001b[0;34m.\u001b[0m\u001b[0mreason\u001b[0m\u001b[0;34m,\u001b[0m \u001b[0m_SSLError\u001b[0m\u001b[0;34m)\u001b[0m\u001b[0;34m:\u001b[0m\u001b[0;34m\u001b[0m\u001b[0m\n\u001b[1;32m    505\u001b[0m                 \u001b[0;31m# This branch is for urllib3 v1.22 and later.\u001b[0m\u001b[0;34m\u001b[0m\u001b[0;34m\u001b[0m\u001b[0m\n\u001b[0;32m--> 506\u001b[0;31m                 \u001b[0;32mraise\u001b[0m \u001b[0mSSLError\u001b[0m\u001b[0;34m(\u001b[0m\u001b[0me\u001b[0m\u001b[0;34m,\u001b[0m \u001b[0mrequest\u001b[0m\u001b[0;34m=\u001b[0m\u001b[0mrequest\u001b[0m\u001b[0;34m)\u001b[0m\u001b[0;34m\u001b[0m\u001b[0m\n\u001b[0m\u001b[1;32m    507\u001b[0m \u001b[0;34m\u001b[0m\u001b[0m\n\u001b[1;32m    508\u001b[0m             \u001b[0;32mraise\u001b[0m \u001b[0mConnectionError\u001b[0m\u001b[0;34m(\u001b[0m\u001b[0me\u001b[0m\u001b[0;34m,\u001b[0m \u001b[0mrequest\u001b[0m\u001b[0;34m=\u001b[0m\u001b[0mrequest\u001b[0m\u001b[0;34m)\u001b[0m\u001b[0;34m\u001b[0m\u001b[0m\n",
      "\u001b[0;31mSSLError\u001b[0m: HTTPSConnectionPool(host='www.cnn.co.jp', port=443): Max retries exceeded with url: /business/35121473.html (Caused by SSLError(SSLError(\"bad handshake: SysCallError(-1, 'Unexpected EOF')\",),))"
     ]
    }
   ],
   "source": [
    "from tqdm import tqdm_notebook\n",
    "results = []\n",
    "names = [\"reuters\", \"cnn\", \"cnn\", \"cnn\", \"cnn\", \"cnn\"]\n",
    "params = [\n",
    "    [],\n",
    "    [0],\n",
    "    [1],\n",
    "    [2],\n",
    "    [3],\n",
    "    [4]\n",
    "]\n",
    "\n",
    "pages = [\n",
    "    50,\n",
    "    50,\n",
    "    50,\n",
    "    50,\n",
    "    50,\n",
    "    50\n",
    "]\n",
    "\n",
    "\n",
    "for name, param, page_len in zip(names, params, pages):\n",
    "    for i in tqdm_notebook(range(page_len)):\n",
    "        base_url = urlgetter.get_url(name, *param, i+1)\n",
    "        for article_url in ArticleGetter(base_url).get_articles(name):\n",
    "            title, body = ArticleExtractor(article_url).extract_article(name)\n",
    "            results.append({\"title\":title, \"body\":body, \"url\": article_url})"
   ]
  },
  {
   "cell_type": "code",
   "execution_count": 218,
   "metadata": {},
   "outputs": [
    {
     "data": {
      "text/html": [
       "<div>\n",
       "<style scoped>\n",
       "    .dataframe tbody tr th:only-of-type {\n",
       "        vertical-align: middle;\n",
       "    }\n",
       "\n",
       "    .dataframe tbody tr th {\n",
       "        vertical-align: top;\n",
       "    }\n",
       "\n",
       "    .dataframe thead th {\n",
       "        text-align: right;\n",
       "    }\n",
       "</style>\n",
       "<table border=\"1\" class=\"dataframe\">\n",
       "  <thead>\n",
       "    <tr style=\"text-align: right;\">\n",
       "      <th></th>\n",
       "      <th>body</th>\n",
       "      <th>title</th>\n",
       "      <th>url</th>\n",
       "    </tr>\n",
       "  </thead>\n",
       "  <tbody>\n",
       "    <tr>\n",
       "      <th>0</th>\n",
       "      <td>トップニュースJune 28, 2018 /  11:02 PM / 32 minutes ...</td>\n",
       "      <td>焦点：貿易戦争より「手強い脅威」、中国で米企業が直面</td>\n",
       "      <td>https://jp.reuters.com/article/trade-war-cn-us...</td>\n",
       "    </tr>\n",
       "    <tr>\n",
       "      <th>1</th>\n",
       "      <td>ワールドJune 28, 2018 /  10:32 PM / 20 minutes ago...</td>\n",
       "      <td>米メリーランド州の新聞社で銃撃、少なくとも5人死亡</td>\n",
       "      <td>https://jp.reuters.com/article/maryland-shooti...</td>\n",
       "    </tr>\n",
       "    <tr>\n",
       "      <th>2</th>\n",
       "      <td>スポーツJune 29, 2018 /  12:17 AM / an hour ago更新1...</td>\n",
       "      <td>ＭＬＢ＝大谷が打撃練習再開へ、エンゼルスＧＭが明かす</td>\n",
       "      <td>https://jp.reuters.com/article/baseball-mlb-la...</td>\n",
       "    </tr>\n",
       "    <tr>\n",
       "      <th>3</th>\n",
       "      <td>トップニュースJune 28, 2018 /  2:10 AM / 2 hours ago更...</td>\n",
       "      <td>焦点：外資泣かせの北朝鮮ビジネス、「失敗の歴史」繰り返すか</td>\n",
       "      <td>https://jp.reuters.com/article/northkorea-usa-...</td>\n",
       "    </tr>\n",
       "    <tr>\n",
       "      <th>4</th>\n",
       "      <td>トップニュースJune 28, 2018 /  9:56 AM / 33 minutes a...</td>\n",
       "      <td>アングル：ビール抜きでＷ杯観戦か、英国襲う炭酸ガス不足</td>\n",
       "      <td>https://jp.reuters.com/article/beer-wcup-londo...</td>\n",
       "    </tr>\n",
       "  </tbody>\n",
       "</table>\n",
       "</div>"
      ],
      "text/plain": [
       "                                                body  \\\n",
       "0  トップニュースJune 28, 2018 /  11:02 PM / 32 minutes ...   \n",
       "1  ワールドJune 28, 2018 /  10:32 PM / 20 minutes ago...   \n",
       "2  スポーツJune 29, 2018 /  12:17 AM / an hour ago更新1...   \n",
       "3  トップニュースJune 28, 2018 /  2:10 AM / 2 hours ago更...   \n",
       "4  トップニュースJune 28, 2018 /  9:56 AM / 33 minutes a...   \n",
       "\n",
       "                           title  \\\n",
       "0     焦点：貿易戦争より「手強い脅威」、中国で米企業が直面   \n",
       "1      米メリーランド州の新聞社で銃撃、少なくとも5人死亡   \n",
       "2     ＭＬＢ＝大谷が打撃練習再開へ、エンゼルスＧＭが明かす   \n",
       "3  焦点：外資泣かせの北朝鮮ビジネス、「失敗の歴史」繰り返すか   \n",
       "4    アングル：ビール抜きでＷ杯観戦か、英国襲う炭酸ガス不足   \n",
       "\n",
       "                                                 url  \n",
       "0  https://jp.reuters.com/article/trade-war-cn-us...  \n",
       "1  https://jp.reuters.com/article/maryland-shooti...  \n",
       "2  https://jp.reuters.com/article/baseball-mlb-la...  \n",
       "3  https://jp.reuters.com/article/northkorea-usa-...  \n",
       "4  https://jp.reuters.com/article/beer-wcup-londo...  "
      ]
     },
     "execution_count": 218,
     "metadata": {},
     "output_type": "execute_result"
    }
   ],
   "source": [
    "df = pd.DataFrame(results)\n",
    "df.head()"
   ]
  },
  {
   "cell_type": "code",
   "execution_count": 219,
   "metadata": {},
   "outputs": [],
   "source": [
    "df.to_csv(\"true_news.csv\")"
   ]
  },
  {
   "cell_type": "code",
   "execution_count": 222,
   "metadata": {},
   "outputs": [],
   "source": [
    "df_fake = pd.read_csv(\"fake_news.csv\")\n",
    "df_fake[\"label\"] = True\n",
    "\n",
    "df_true = pd.read_csv(\"true_news.csv\")\n",
    "df_true[\"label\"] = False"
   ]
  },
  {
   "cell_type": "code",
   "execution_count": 224,
   "metadata": {},
   "outputs": [
    {
     "data": {
      "text/html": [
       "<div>\n",
       "<style scoped>\n",
       "    .dataframe tbody tr th:only-of-type {\n",
       "        vertical-align: middle;\n",
       "    }\n",
       "\n",
       "    .dataframe tbody tr th {\n",
       "        vertical-align: top;\n",
       "    }\n",
       "\n",
       "    .dataframe thead th {\n",
       "        text-align: right;\n",
       "    }\n",
       "</style>\n",
       "<table border=\"1\" class=\"dataframe\">\n",
       "  <thead>\n",
       "    <tr style=\"text-align: right;\">\n",
       "      <th></th>\n",
       "      <th>id</th>\n",
       "      <th>body</th>\n",
       "      <th>title</th>\n",
       "      <th>url</th>\n",
       "      <th>label</th>\n",
       "    </tr>\n",
       "  </thead>\n",
       "  <tbody>\n",
       "    <tr>\n",
       "      <th>0</th>\n",
       "      <td>0</td>\n",
       "      <td>トップニュースJune 28, 2018 /  11:02 PM / 32 minutes ...</td>\n",
       "      <td>焦点：貿易戦争より「手強い脅威」、中国で米企業が直面</td>\n",
       "      <td>https://jp.reuters.com/article/trade-war-cn-us...</td>\n",
       "      <td>False</td>\n",
       "    </tr>\n",
       "    <tr>\n",
       "      <th>51</th>\n",
       "      <td>51</td>\n",
       "      <td>※2頁目に衝撃的な画像を掲載しています。苦手な方は文章のみご覧ください。 画像は、「Cra...</td>\n",
       "      <td>【閲覧注意】ジャンピング追突、自殺者落下、殺人的巻き込み… 何でもありの中国・最凶交通事故1...</td>\n",
       "      <td>http://tocana.jp/2017/12/post_15276_entry.html</td>\n",
       "      <td>True</td>\n",
       "    </tr>\n",
       "    <tr>\n",
       "      <th>567</th>\n",
       "      <td>567</td>\n",
       "      <td>エンドレス・ポエトリー  『エル・トポ』（70年）、『ホーリー・マウンテン』（73年）がジ...</td>\n",
       "      <td>【インタビュー】心臓発作を起こしそうなほど芸術的！ ホドロフスキー監督の新作映画『エンドレス...</td>\n",
       "      <td>http://tocana.jp/2017/11/post_15064_entry.html</td>\n",
       "      <td>True</td>\n",
       "    </tr>\n",
       "    <tr>\n",
       "      <th>161</th>\n",
       "      <td>161</td>\n",
       "      <td>ワールドJune 26, 2018 /  3:05 AM / 3 days ago2 分で読...</td>\n",
       "      <td>アングル：日朝交渉、安倍首相が意欲 実務協議などハードルも</td>\n",
       "      <td>https://jp.reuters.com/article/abe-north-korea...</td>\n",
       "      <td>False</td>\n",
       "    </tr>\n",
       "    <tr>\n",
       "      <th>1164</th>\n",
       "      <td>1164</td>\n",
       "      <td>2018年6月8日～10日の3日間にわたり、日産スタジアムで開催された「東方神起...</td>\n",
       "      <td>「東方神起がゴリラのマネ」、日本人蔑視だと誤解を受けてネットで糾弾！？</td>\n",
       "      <td>http://mnsatlas.com/?p=36545</td>\n",
       "      <td>True</td>\n",
       "    </tr>\n",
       "  </tbody>\n",
       "</table>\n",
       "</div>"
      ],
      "text/plain": [
       "        id                                               body  \\\n",
       "0        0  トップニュースJune 28, 2018 /  11:02 PM / 32 minutes ...   \n",
       "51      51   ※2頁目に衝撃的な画像を掲載しています。苦手な方は文章のみご覧ください。 画像は、「Cra...   \n",
       "567    567   エンドレス・ポエトリー  『エル・トポ』（70年）、『ホーリー・マウンテン』（73年）がジ...   \n",
       "161    161  ワールドJune 26, 2018 /  3:05 AM / 3 days ago2 分で読...   \n",
       "1164  1164        2018年6月8日～10日の3日間にわたり、日産スタジアムで開催された「東方神起...   \n",
       "\n",
       "                                                  title  \\\n",
       "0                            焦点：貿易戦争より「手強い脅威」、中国で米企業が直面   \n",
       "51    【閲覧注意】ジャンピング追突、自殺者落下、殺人的巻き込み… 何でもありの中国・最凶交通事故1...   \n",
       "567   【インタビュー】心臓発作を起こしそうなほど芸術的！ ホドロフスキー監督の新作映画『エンドレス...   \n",
       "161                       アングル：日朝交渉、安倍首相が意欲 実務協議などハードルも   \n",
       "1164                「東方神起がゴリラのマネ」、日本人蔑視だと誤解を受けてネットで糾弾！？   \n",
       "\n",
       "                                                    url  label  \n",
       "0     https://jp.reuters.com/article/trade-war-cn-us...  False  \n",
       "51       http://tocana.jp/2017/12/post_15276_entry.html   True  \n",
       "567      http://tocana.jp/2017/11/post_15064_entry.html   True  \n",
       "161   https://jp.reuters.com/article/abe-north-korea...  False  \n",
       "1164                       http://mnsatlas.com/?p=36545   True  "
      ]
     },
     "execution_count": 224,
     "metadata": {},
     "output_type": "execute_result"
    }
   ],
   "source": [
    "from sklearn.utils import shuffle\n",
    "df = pd.concat([df_fake, df_true])\n",
    "df = shuffle(df, random_state=42)\n",
    "df.columns = [\"id\", \"body\", \"title\", \"url\", \"label\"]\n",
    "df.head()"
   ]
  },
  {
   "cell_type": "code",
   "execution_count": 225,
   "metadata": {},
   "outputs": [
    {
     "data": {
      "text/plain": [
       "(3449, 5)"
      ]
     },
     "execution_count": 225,
     "metadata": {},
     "output_type": "execute_result"
    }
   ],
   "source": [
    "df.shape"
   ]
  },
  {
   "cell_type": "code",
   "execution_count": 231,
   "metadata": {},
   "outputs": [
    {
     "data": {
      "application/vnd.jupyter.widget-view+json": {
       "model_id": "f968b873448648c2a5eef035a53a3df3",
       "version_major": 2,
       "version_minor": 0
      },
      "text/plain": [
       "HBox(children=(IntProgress(value=1, bar_style='info', max=1), HTML(value='')))"
      ]
     },
     "metadata": {},
     "output_type": "display_data"
    }
   ],
   "source": [
    "import MeCab\n",
    "import numpy as np\n",
    "\n",
    "tagger = MeCab.Tagger(\"-Owakati\")\n",
    "body = []\n",
    "title = []\n",
    "\n",
    "for i, d in tqdm_notebook(df.iterrows()):\n",
    "    body.append(tagger.parse(d['body']))\n",
    "    title.append(tagger.parse(d['title']))"
   ]
  },
  {
   "cell_type": "code",
   "execution_count": 233,
   "metadata": {},
   "outputs": [],
   "source": [
    "df_fixed = df[:]"
   ]
  },
  {
   "cell_type": "code",
   "execution_count": 235,
   "metadata": {},
   "outputs": [
    {
     "data": {
      "text/html": [
       "<div>\n",
       "<style scoped>\n",
       "    .dataframe tbody tr th:only-of-type {\n",
       "        vertical-align: middle;\n",
       "    }\n",
       "\n",
       "    .dataframe tbody tr th {\n",
       "        vertical-align: top;\n",
       "    }\n",
       "\n",
       "    .dataframe thead th {\n",
       "        text-align: right;\n",
       "    }\n",
       "</style>\n",
       "<table border=\"1\" class=\"dataframe\">\n",
       "  <thead>\n",
       "    <tr style=\"text-align: right;\">\n",
       "      <th></th>\n",
       "      <th>id</th>\n",
       "      <th>body</th>\n",
       "      <th>title</th>\n",
       "      <th>url</th>\n",
       "      <th>label</th>\n",
       "    </tr>\n",
       "  </thead>\n",
       "  <tbody>\n",
       "    <tr>\n",
       "      <th>0</th>\n",
       "      <td>0</td>\n",
       "      <td>トップニュース June 28 , 2018 / 11 : 02 PM / 32 minut...</td>\n",
       "      <td>焦点 ： 貿易 戦争 より 「 手強い 脅威 」 、 中国 で 米 企業 が 直面 \\n</td>\n",
       "      <td>https://jp.reuters.com/article/trade-war-cn-us...</td>\n",
       "      <td>False</td>\n",
       "    </tr>\n",
       "    <tr>\n",
       "      <th>51</th>\n",
       "      <td>51</td>\n",
       "      <td>※ 2 頁 目 に 衝撃 的 な 画像 を 掲載 し て い ます 。 苦手 な 方 は 文...</td>\n",
       "      <td>【 閲覧 注意 】 ジャンピング 追突 、 自殺 者 落下 、 殺人 的 巻き込み … 何 ...</td>\n",
       "      <td>http://tocana.jp/2017/12/post_15276_entry.html</td>\n",
       "      <td>True</td>\n",
       "    </tr>\n",
       "    <tr>\n",
       "      <th>567</th>\n",
       "      <td>567</td>\n",
       "      <td>エンドレス・ポエトリー 『 エル ・ トポ 』 （ 70 年 ） 、 『 ホーリー・マウンテ...</td>\n",
       "      <td>【 インタビュー 】 心臓 発作 を 起こし そう な ほど 芸術 的 ！ ホドロフスキー ...</td>\n",
       "      <td>http://tocana.jp/2017/11/post_15064_entry.html</td>\n",
       "      <td>True</td>\n",
       "    </tr>\n",
       "    <tr>\n",
       "      <th>161</th>\n",
       "      <td>161</td>\n",
       "      <td>ワールド June 26 , 2018 / 3 : 05 AM / 3 days ago 2...</td>\n",
       "      <td>アングル ： 日 朝 交渉 、 安倍 首相 が 意欲 実務 協議 など ハードル も \\n</td>\n",
       "      <td>https://jp.reuters.com/article/abe-north-korea...</td>\n",
       "      <td>False</td>\n",
       "    </tr>\n",
       "    <tr>\n",
       "      <th>1164</th>\n",
       "      <td>1164</td>\n",
       "      <td>2018 年 6 月 8 日 ～ 10 日 の 3 日間 にわたり 、 日産 スタジアム で...</td>\n",
       "      <td>「 東方 神 起が ゴリラ の マネ 」 、 日本人 蔑視 だ と 誤解 を 受け て ネッ...</td>\n",
       "      <td>http://mnsatlas.com/?p=36545</td>\n",
       "      <td>True</td>\n",
       "    </tr>\n",
       "  </tbody>\n",
       "</table>\n",
       "</div>"
      ],
      "text/plain": [
       "        id                                               body  \\\n",
       "0        0  トップニュース June 28 , 2018 / 11 : 02 PM / 32 minut...   \n",
       "51      51  ※ 2 頁 目 に 衝撃 的 な 画像 を 掲載 し て い ます 。 苦手 な 方 は 文...   \n",
       "567    567  エンドレス・ポエトリー 『 エル ・ トポ 』 （ 70 年 ） 、 『 ホーリー・マウンテ...   \n",
       "161    161  ワールド June 26 , 2018 / 3 : 05 AM / 3 days ago 2...   \n",
       "1164  1164  2018 年 6 月 8 日 ～ 10 日 の 3 日間 にわたり 、 日産 スタジアム で...   \n",
       "\n",
       "                                                  title  \\\n",
       "0          焦点 ： 貿易 戦争 より 「 手強い 脅威 」 、 中国 で 米 企業 が 直面 \\n   \n",
       "51    【 閲覧 注意 】 ジャンピング 追突 、 自殺 者 落下 、 殺人 的 巻き込み … 何 ...   \n",
       "567   【 インタビュー 】 心臓 発作 を 起こし そう な ほど 芸術 的 ！ ホドロフスキー ...   \n",
       "161       アングル ： 日 朝 交渉 、 安倍 首相 が 意欲 実務 協議 など ハードル も \\n   \n",
       "1164  「 東方 神 起が ゴリラ の マネ 」 、 日本人 蔑視 だ と 誤解 を 受け て ネッ...   \n",
       "\n",
       "                                                    url  label  \n",
       "0     https://jp.reuters.com/article/trade-war-cn-us...  False  \n",
       "51       http://tocana.jp/2017/12/post_15276_entry.html   True  \n",
       "567      http://tocana.jp/2017/11/post_15064_entry.html   True  \n",
       "161   https://jp.reuters.com/article/abe-north-korea...  False  \n",
       "1164                       http://mnsatlas.com/?p=36545   True  "
      ]
     },
     "execution_count": 235,
     "metadata": {},
     "output_type": "execute_result"
    }
   ],
   "source": [
    "df_fixed['body'] = body\n",
    "df_fixed['title'] = title\n",
    "df_fixed.head()"
   ]
  },
  {
   "cell_type": "code",
   "execution_count": 236,
   "metadata": {},
   "outputs": [],
   "source": [
    "df_fixed.to_csv(\"credibility_dataset.csv\")"
   ]
  },
  {
   "cell_type": "code",
   "execution_count": null,
   "metadata": {},
   "outputs": [],
   "source": []
  }
 ],
 "metadata": {
  "kernelspec": {
   "display_name": "Python 3",
   "language": "python",
   "name": "python3"
  },
  "language_info": {
   "codemirror_mode": {
    "name": "ipython",
    "version": 3
   },
   "file_extension": ".py",
   "mimetype": "text/x-python",
   "name": "python",
   "nbconvert_exporter": "python",
   "pygments_lexer": "ipython3",
   "version": "3.6.5"
  }
 },
 "nbformat": 4,
 "nbformat_minor": 2
}
