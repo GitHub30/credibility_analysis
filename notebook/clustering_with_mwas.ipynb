{
 "cells": [
  {
   "cell_type": "code",
   "execution_count": 89,
   "metadata": {},
   "outputs": [],
   "source": [
    "import pandas as pd"
   ]
  },
  {
   "cell_type": "code",
   "execution_count": 2,
   "metadata": {},
   "outputs": [],
   "source": [
    "df = pd.read_csv(\"data/gathered_data.csv\")"
   ]
  },
  {
   "cell_type": "code",
   "execution_count": 3,
   "metadata": {},
   "outputs": [],
   "source": [
    "df_cnn = df[list(map(lambda x: 'cnn.co.jp' in x, df['url'].tolist()))].dropna()\n",
    "df_reuters = df[list(map(lambda x: 'reuters.com' in x, df['url'].tolist()))].dropna()\n",
    "df_afp = df[list(map(lambda x: 'afpbb.com' in x, df['url'].tolist()))].dropna()"
   ]
  },
  {
   "cell_type": "code",
   "execution_count": 4,
   "metadata": {},
   "outputs": [],
   "source": [
    "import re\n",
    "import datetime\n",
    "from dateutil import parser\n",
    "\n",
    "def jadate_to_datetime(jadate, site_type):\n",
    "    if site_type==\"afp\":\n",
    "        t = map(int, re.sub(r\"(年|月|日|:)\",\" \", jadate).split())\n",
    "        return pd.Timestamp(datetime.datetime(*t, 0))\n",
    "    elif site_type==\"cnn\":\n",
    "        tmp = re.sub(r\"([0-9\\.]+).+at ([0-9:]+).+\", r\"\\1,\\2\", jadate).split(\",\")\n",
    "        t = list(map(int, tmp[0].split(\".\") + tmp[1].split(\":\")))\n",
    "        return pd.Timestamp(datetime.datetime(*t, 0))\n",
    "    elif site_type==\"reuters\":\n",
    "        tmp = re.sub(r\"(.+)/.+\", r\"\\1\", jadate).replace(\"/\",\"\").replace(\",\", \"\")\n",
    "        tmp = re.sub(r\"( +)\", r\" \", tmp)\n",
    "        tmp = tmp.split()\n",
    "        tmp2 = tmp[3].split(\":\")\n",
    "        tmp2[0] = tmp2[0].zfill(2)\n",
    "        tmp2[1] = tmp2[1].zfill(2)\n",
    "        tmp[3] = ':'.join(tmp2)\n",
    "        data = ' '.join(tmp)\n",
    "        return pd.Timestamp(parser.parse(data))"
   ]
  },
  {
   "cell_type": "code",
   "execution_count": 8,
   "metadata": {},
   "outputs": [
    {
     "data": {
      "application/vnd.jupyter.widget-view+json": {
       "model_id": "a7f8c3a21d2b470fbd29cbe3f073661d",
       "version_major": 2,
       "version_minor": 0
      },
      "text/plain": [
       "HBox(children=(IntProgress(value=1, bar_style='info', max=1), HTML(value='')))"
      ]
     },
     "metadata": {},
     "output_type": "display_data"
    },
    {
     "name": "stdout",
     "output_type": "stream",
     "text": [
      "\n"
     ]
    },
    {
     "data": {
      "application/vnd.jupyter.widget-view+json": {
       "model_id": "1bc7cadd25754efa80f5088e035604ed",
       "version_major": 2,
       "version_minor": 0
      },
      "text/plain": [
       "HBox(children=(IntProgress(value=1, bar_style='info', max=1), HTML(value='')))"
      ]
     },
     "metadata": {},
     "output_type": "display_data"
    },
    {
     "name": "stdout",
     "output_type": "stream",
     "text": [
      "\n"
     ]
    },
    {
     "data": {
      "application/vnd.jupyter.widget-view+json": {
       "model_id": "a80536aaa86148748c2e7afacc491a46",
       "version_major": 2,
       "version_minor": 0
      },
      "text/plain": [
       "HBox(children=(IntProgress(value=1, bar_style='info', max=1), HTML(value='')))"
      ]
     },
     "metadata": {},
     "output_type": "display_data"
    },
    {
     "name": "stdout",
     "output_type": "stream",
     "text": [
      "\n"
     ]
    }
   ],
   "source": [
    "from tqdm import tqdm_notebook\n",
    "site_types = [\"afp\", \"cnn\", \"reuters\"]\n",
    "dfs = [df_afp, df_cnn, df_reuters]\n",
    "results_day = []\n",
    "for site_type, df in zip(site_types, dfs):\n",
    "    day_fixed = []\n",
    "    for i, d in tqdm_notebook(df.iterrows()):\n",
    "        day_fixed.append(jadate_to_datetime(d['day'], site_type))\n",
    "    results_day.append(day_fixed)"
   ]
  },
  {
   "cell_type": "code",
   "execution_count": 9,
   "metadata": {},
   "outputs": [],
   "source": [
    "df_afp['day_fixed'] = results_day[0]\n",
    "df_cnn['day_fixed'] = results_day[1]\n",
    "df_reuters['day_fixed'] = results_day[2]"
   ]
  },
  {
   "cell_type": "code",
   "execution_count": 10,
   "metadata": {},
   "outputs": [
    {
     "data": {
      "text/html": [
       "<div>\n",
       "<style scoped>\n",
       "    .dataframe tbody tr th:only-of-type {\n",
       "        vertical-align: middle;\n",
       "    }\n",
       "\n",
       "    .dataframe tbody tr th {\n",
       "        vertical-align: top;\n",
       "    }\n",
       "\n",
       "    .dataframe thead th {\n",
       "        text-align: right;\n",
       "    }\n",
       "</style>\n",
       "<table border=\"1\" class=\"dataframe\">\n",
       "  <thead>\n",
       "    <tr style=\"text-align: right;\">\n",
       "      <th></th>\n",
       "      <th>body</th>\n",
       "      <th>day</th>\n",
       "      <th>title</th>\n",
       "      <th>url</th>\n",
       "      <th>day_fixed</th>\n",
       "    </tr>\n",
       "  </thead>\n",
       "  <tbody>\n",
       "    <tr>\n",
       "      <th>0</th>\n",
       "      <td>世界的なブランドを評定する世界品牌実験室（World Brand Lab）はこのほど、「中国...</td>\n",
       "      <td>2018年7月5日 10:00</td>\n",
       "      <td>青島ビール、ブランド価値は約2兆円</td>\n",
       "      <td>http://www.afpbb.com/articles/-/3181154</td>\n",
       "      <td>2018-07-05 10:00:00</td>\n",
       "    </tr>\n",
       "    <tr>\n",
       "      <th>1</th>\n",
       "      <td>国連児童基金（ユニセフ、UNICEF）は3日、イエメンでの3年にわたる内戦が子どもたちに深刻...</td>\n",
       "      <td>2018年7月4日 22:31</td>\n",
       "      <td>イエメン内戦、3年で子ども2200人死亡 ユニセフが「大虐殺」を非難</td>\n",
       "      <td>http://www.afpbb.com/articles/-/3181229</td>\n",
       "      <td>2018-07-04 22:31:00</td>\n",
       "    </tr>\n",
       "    <tr>\n",
       "      <th>2</th>\n",
       "      <td>国連のゼイド・ラアド・アル・フセイン（Zeid Ra'ad Al Hussein）人権高等弁...</td>\n",
       "      <td>2018年7月5日 5:20</td>\n",
       "      <td>ミャンマーがロヒンギャ帰還者58人拘束 国連報告</td>\n",
       "      <td>http://www.afpbb.com/articles/-/3181240</td>\n",
       "      <td>2018-07-05 05:20:00</td>\n",
       "    </tr>\n",
       "    <tr>\n",
       "      <th>3</th>\n",
       "      <td>インドでメッセージサービス「ワッツアップ（WhatsApp）」上に流布するデマを信じた人々に...</td>\n",
       "      <td>2018年7月4日 19:27</td>\n",
       "      <td>デマによるリンチ、インドで相次ぐ ワッツアップが対処を約束</td>\n",
       "      <td>http://www.afpbb.com/articles/-/3181220</td>\n",
       "      <td>2018-07-04 19:27:00</td>\n",
       "    </tr>\n",
       "    <tr>\n",
       "      <th>4</th>\n",
       "      <td>英警察は3日、北西部チェスター（Chester）の病院で起きた新生児不審死の捜査結果を受けて...</td>\n",
       "      <td>2018年7月4日 16:50</td>\n",
       "      <td>英病院で新生児の不審死8件、医療従事者の女を逮捕</td>\n",
       "      <td>http://www.afpbb.com/articles/-/3181191</td>\n",
       "      <td>2018-07-04 16:50:00</td>\n",
       "    </tr>\n",
       "  </tbody>\n",
       "</table>\n",
       "</div>"
      ],
      "text/plain": [
       "                                                body              day  \\\n",
       "0  世界的なブランドを評定する世界品牌実験室（World Brand Lab）はこのほど、「中国...  2018年7月5日 10:00   \n",
       "1  国連児童基金（ユニセフ、UNICEF）は3日、イエメンでの3年にわたる内戦が子どもたちに深刻...  2018年7月4日 22:31   \n",
       "2  国連のゼイド・ラアド・アル・フセイン（Zeid Ra'ad Al Hussein）人権高等弁...   2018年7月5日 5:20   \n",
       "3  インドでメッセージサービス「ワッツアップ（WhatsApp）」上に流布するデマを信じた人々に...  2018年7月4日 19:27   \n",
       "4  英警察は3日、北西部チェスター（Chester）の病院で起きた新生児不審死の捜査結果を受けて...  2018年7月4日 16:50   \n",
       "\n",
       "                                title  \\\n",
       "0                   青島ビール、ブランド価値は約2兆円   \n",
       "1  イエメン内戦、3年で子ども2200人死亡 ユニセフが「大虐殺」を非難   \n",
       "2            ミャンマーがロヒンギャ帰還者58人拘束 国連報告   \n",
       "3       デマによるリンチ、インドで相次ぐ ワッツアップが対処を約束   \n",
       "4            英病院で新生児の不審死8件、医療従事者の女を逮捕   \n",
       "\n",
       "                                       url           day_fixed  \n",
       "0  http://www.afpbb.com/articles/-/3181154 2018-07-05 10:00:00  \n",
       "1  http://www.afpbb.com/articles/-/3181229 2018-07-04 22:31:00  \n",
       "2  http://www.afpbb.com/articles/-/3181240 2018-07-05 05:20:00  \n",
       "3  http://www.afpbb.com/articles/-/3181220 2018-07-04 19:27:00  \n",
       "4  http://www.afpbb.com/articles/-/3181191 2018-07-04 16:50:00  "
      ]
     },
     "execution_count": 10,
     "metadata": {},
     "output_type": "execute_result"
    }
   ],
   "source": [
    "df = pd.concat([df_afp, df_cnn, df_reuters])\n",
    "df.to_csv(\"fixed_data.csv\")\n",
    "df.head()"
   ]
  },
  {
   "cell_type": "code",
   "execution_count": 5,
   "metadata": {},
   "outputs": [],
   "source": [
    "df = pd.read_csv(\"fixed_data.csv\")"
   ]
  },
  {
   "cell_type": "code",
   "execution_count": 15,
   "metadata": {},
   "outputs": [],
   "source": [
    "df['day_fixed'] = pd.to_datetime(df['day_fixed'])"
   ]
  },
  {
   "cell_type": "code",
   "execution_count": 16,
   "metadata": {},
   "outputs": [],
   "source": [
    "df_afp = df[list(map(lambda x: 'afpbb.com' in x, df['url'].tolist()))]"
   ]
  },
  {
   "cell_type": "code",
   "execution_count": 8,
   "metadata": {},
   "outputs": [],
   "source": [
    "import numpy as np\n",
    "from functools import partial\n",
    "from dateutil import parser\n",
    "\n",
    "def diff_date(t1, t2):\n",
    "    if t1 < t2:\n",
    "        tmp = t1\n",
    "        t1 = t2\n",
    "        t2 = tmp\n",
    "    return (t1-t2).to_timedelta64().astype(\"timedelta64[h]\")/np.timedelta64(1,'h')\n",
    "\n",
    "def within(t1, base, hour=12):\n",
    "    return diff_date(t1, base) <= hour\n",
    "\n",
    "def get_around(df, base, hour=12, column=\"day_fixed\"):\n",
    "    func = partial(within, base=base, hour=hour)\n",
    "    return df[list(map(func, df[column].tolist()))]\n",
    "\n",
    "def get_day(start, plus):\n",
    "    return pd.Timestamp(start + datetime.timedelta(days=plus))"
   ]
  },
  {
   "cell_type": "code",
   "execution_count": 17,
   "metadata": {},
   "outputs": [
    {
     "name": "stderr",
     "output_type": "stream",
     "text": [
      "/opt/conda/lib/python3.6/site-packages/ipykernel_launcher.py:8: SettingWithCopyWarning: \n",
      "A value is trying to be set on a copy of a slice from a DataFrame.\n",
      "Try using .loc[row_indexer,col_indexer] = value instead\n",
      "\n",
      "See the caveats in the documentation: http://pandas.pydata.org/pandas-docs/stable/indexing.html#indexing-view-versus-copy\n",
      "  \n"
     ]
    }
   ],
   "source": [
    "import MeCab\n",
    "def extract_data(d, tagger, column1, column2):\n",
    "    return tagger.parse(d[1][column1] + \" \" + d[1][column2].split(\"。\")[0])\n",
    "\n",
    "tagger = MeCab.Tagger(\"-Owakati\")\n",
    "func = partial(extract_data, tagger=tagger, column1=\"title\", column2=\"body\")\n",
    "\n",
    "df_afp['data'] = list(map(func, df_afp.iterrows()))\n",
    "df['data'] = list(map(func, df.iterrows()))"
   ]
  },
  {
   "cell_type": "code",
   "execution_count": 16,
   "metadata": {},
   "outputs": [],
   "source": [
    "df.to_csv(\"progress_data.csv\", index=False)"
   ]
  },
  {
   "cell_type": "code",
   "execution_count": 18,
   "metadata": {},
   "outputs": [],
   "source": [
    "start = datetime.datetime(2017,2,1,12,0,0)\n",
    "day = get_day(start, 0)\n",
    "targets_afp = get_around(df_afp, day, hour=12*30)\n",
    "targets = get_around(df, day, hour=12*30)"
   ]
  },
  {
   "cell_type": "code",
   "execution_count": 178,
   "metadata": {},
   "outputs": [],
   "source": [
    "import scipy.sparse as sps\n",
    "from tqdm import tqdm_notebook\n",
    "\n",
    "def mul_sim(similarities, days):\n",
    "    for i, d1 in enumerate(tqdm_notebook(days)):\n",
    "        d = np.array([1/np.exp(diff_date(d1, d2)/24.0) for d2 in days])\n",
    "        similarities[i, :] = similarities[i, :].multiply(d)\n",
    "    return similarities\n",
    "\n",
    "days =targets_afp['day_fixed'].tolist()"
   ]
  },
  {
   "cell_type": "code",
   "execution_count": 179,
   "metadata": {},
   "outputs": [
    {
     "data": {
      "application/vnd.jupyter.widget-view+json": {
       "model_id": "88863c52cacf4f579e638226d3bd7b67",
       "version_major": 2,
       "version_minor": 0
      },
      "text/plain": [
       "HBox(children=(IntProgress(value=0, max=580), HTML(value='')))"
      ]
     },
     "metadata": {},
     "output_type": "display_data"
    }
   ],
   "source": [
    "from sklearn.feature_extraction.text import CountVectorizer\n",
    "from sklearn.metrics.pairwise import cosine_similarity\n",
    "from nltk.corpus import stopwords\n",
    "import itertools\n",
    "import markov_clustering as mc\n",
    "stps = stopwords.words(\"japanese\")\n",
    "stps = stps + [''.join(list(stp)) for stp in list(itertools.product(stps, stps))]\n",
    "count_vectors = CountVectorizer(stop_words=stps).fit_transform(targets_afp['data'])\n",
    "similarities = cosine_similarity(count_vectors, dense_output=False)\n",
    "similarities = mul_sim(similarities, days)\n",
    "result = mc.run_mcl(similarities)\n",
    "clusters = mc.get_clusters(result)"
   ]
  },
  {
   "cell_type": "code",
   "execution_count": 26,
   "metadata": {},
   "outputs": [],
   "source": [
    "import pickle\n",
    "with open(\"clustering.pkl\",\"wb\") as f:\n",
    "    pickle.dump((result, clusters), f)"
   ]
  },
  {
   "cell_type": "code",
   "execution_count": 180,
   "metadata": {},
   "outputs": [
    {
     "name": "stdout",
     "output_type": "stream",
     "text": [
      "[[[cluster 8]]]\n",
      "0) :トランプ 氏 の 選対 メンバー 、 ロシア 情報 当局 者 と 繰り返し 接触 米 紙 昨年 の 米 大統領 選 で ドナルド ・ トランプ （ Donald Trump ） 氏 の 選挙 対策 チーム の メンバー だっ た 複数 の 人物 が 、 たびたび ロシア の 情報 当局 の 幹部 と 接触 し て い た こと が 分かっ た と 、 14 日 付 の 米 紙 ニューヨーク・タイムズ （ New York Times ） が 報じ た \n",
      "\n",
      "1) :ロシア 、 巡航 ミサイル を 新 配備 か 米 「 軍縮 条約 に 違反 」 と 警告 米 紙 ニューヨーク・タイムズ （ New York Times ） は 14 日 、 ロシア が 新た に 地上 発射 型 巡航 ミサイル を 実戦 配備 し た と 報じ た \n",
      "\n",
      "\n",
      "[[[cluster 10]]]\n",
      "0) :金 正男 氏 殺害 で 女 1 人 を 逮捕 遺体 安置 の 病院 に は 北朝鮮 大使館 員 の 姿 も 北朝鮮 の 金 正 恩 （ キム ・ ジョン ウン 、 Kim Jong - Un ） 朝鮮 労働党 委員 長 の 異母 兄 、 金 正男 （ キム ・ ジョンナム 、 Kim Jong - Nam ） 氏 が マレーシア ・ クアラルンプール （ Kuala Lumpur ） の 空港 で 殺害 さ れ た 事件 で 、 マレーシア の 警察 当局 は 15 日 、 容疑 者 の 女 1 人 を 逮捕 し た \n",
      "\n",
      "1) :韓国 政府 、 金 正男 氏 の 暗殺 を 確認 大統領 代行 「 北 の 残忍 性 示す 」 （ 更新 ・ 写真 追加 ） 韓国 政府 は 15 日 、 北朝鮮 の 金 正 恩 （ キム ・ ジョン ウン 、 Kim Jong - Un ） 朝鮮 労働党 委員 長 の 異母 兄 、 金 正男 （ キム ・ ジョンナム 、 Kim Jong - Nam ） 氏 が マレーシア ・ クアラルンプール （ Kuala Lumpur ） の 空港 で 暗殺 さ れ た と の 報道 は 事実 だ と 確認 し た \n",
      "\n",
      "2) :北朝鮮 の 金 正男 氏 、 マレーシア で 暗殺 か 韓国 メディア 報道 （ 更新 、 写真 追加 ） 北朝鮮 の 金 正 恩 （ キム ・ ジョン ウン 、 Kim Jong - Un ） 朝鮮 労働党 委員 長 の 異母 兄 、 金 正男 （ キム ・ ジョンナム 、 Kim Jong - Nam ） 氏 が 、 マレーシア で 北朝鮮 の 工作 員 の 女 により 毒 針 を 使っ て 暗殺 さ れ た と 、 韓国 メディア が 14 日 、 報じ た \n",
      "\n",
      "\n",
      "[[[cluster 12]]]\n",
      "0) :米 大統領 、 「 2 国家 共存 」 に 固執 せ ず 中東 和平 で 方針 転換 ドナルド ・ トランプ （ Donald Trump ） 米 大統領 は 15 日 、 イスラエル の ベンヤミン・ネタニヤフ （ Benjamin Netanyahu ） 首相 と 会談 し 、 同国 と パレスチナ と の 間 の 和平 に つながる の で あれ ば 「 1 国家 」 案 を 受け入れる 用意 が ある と 表明 し た \n",
      "\n",
      "1) :中東 和平 「 2 国家 共存 」 政策 と 決別 か 、 米 ホワイトハウス 高官 が 示唆 米 ホワイトハウス （ White House ） の 高官 は 14 日 、 同国 が 中東 和平 の 実現 に 向け て 数 十 年 にわたり 支持 し て き た イスラエル と パレスチナ の 「 2 国家 共存 」 から の 決別 を 示唆 し た \n",
      "\n",
      "\n",
      "[[[cluster 13]]]\n",
      "0) :フリン 米 大統領 補佐 官 が 辞任 トランプ 氏 側近 、 ロシア 対応 で 疑惑 米 ホワイトハウス （ White House ） は 13 日 、 マイケル ・ フリン （ Michael Flynn ） 米 大統領 補佐 官 （ 国家 安全 保障 問題 担当 ） が 辞任 し た と 発表 し た \n",
      "\n",
      "1) :対ロ 協議 疑惑 、 トランプ 氏 が 1 月 に 問題 把握 フリン 氏 は 訴追 も 辞任 し た マイケル ・ フリン （ Michael Flynn ） 前 米 大統領 補佐 官 が 政権 発足 前 に 対 ロシア 制裁 をめぐって 駐 米 ロシア 大使 と 電話 で 協議 し た と さ れる 疑惑 で 、 ドナルド ・ トランプ （ Donald Trump ） 大統領 が フリン 氏 による 説明 に 問題 が ある 可能 性 を 1 月 後半 時点 で 把握 し て い た こと が 14 日 分かっ た \n",
      "\n",
      "2) :日 米 首脳 、 北 ミサイル 協議 写真 が SNS に 米 政権 の 情報 管理 に 批判 ドナルド ・ トランプ （ Donald Trump ） 米 大統領 が 先週 末 、 訪米 中 だっ た 安倍 晋 三 （ Shinzo Abe ） 首相 を 迎え 開い た 夕食 会 の 席 で 、 北朝鮮 の ミサイル 実験 情報 を 受け取っ た 両 首脳 が 公衆 の 面前 で 側近 ら と 身 を 寄せ 合っ て 対応 を 協議 する 様子 を 捉え た 写真 が ソーシャルメディア 上 に 投稿 さ れ 、 トランプ 政権 の 機密 情報 の 取り扱い に関する 疑念 が 浮上 し て いる \n",
      "\n",
      "\n",
      "[[[cluster 16]]]\n",
      "0) :【 写真 特集 】 米 オロビルダム の 放水 路 損傷 米 カリフォルニア （ California ） 州 に ある オロビルダム （ Oroville Dam ） で 放水 路 が 損傷 し て 大 惨事 を 招く 恐れ が ある ため 、 18 万 8000 人 に 避難 命令 が 出さ れ た \n",
      "\n",
      "1) :米 カリフォルニア 州 の 巨大 ダム で 放水 路 損傷 、 約 19 万 人 に 避難 命令 米 カリフォルニア （ California ） 州 に ある 巨大 ダム で 、 放水 路 が 損傷 し て 大 惨事 を 招く 恐れ が 生じ 、 同 州 北部 の 約 18 万 8000 人 に 避難 命令 が 出さ れ て いる \n",
      "\n",
      "2) :【 図解 】 米 オロビルダム 、 18 万 8000 人 に 避難 命令 米 カリフォルニア （ California ） 州 に ある オロビルダム （ Oroville Dam ） で 放水 路 が 損傷 し 、 周辺 に 流れ込む 恐れ が ある ため 18 万 8000 人 に 避難 命令 が 出さ れ た \n",
      "\n",
      "\n",
      "[[[cluster 29]]]\n",
      "0) :安保理 、 北 の ミサイル 発射 を 非難 トランプ 氏 も 「 断固 対応 」 と 言明 （ 更新 、 写真 追加 ） 国連 安全 保障 理事 会 （ UN Security Council ） は 13 日 、 非公開 の 緊急 会合 を 開き 、 北朝鮮 が 12 日 に 実施 し た 弾道 ミサイル 発射 を 非難 する とともに 北朝鮮 に 「 さらなる 重大 な 措置 」 を 取る と 警告 する 声明 を 全会 一致 で 採択 し た \n",
      "\n",
      "1) :北朝鮮 「 新型 弾道 ミサイル 試射 に 成功 」 安保理 、 あす 緊急 会合 へ （ 写真 追加 、 更新 ） 北朝鮮 国営 の 朝鮮中央通信 （ KCNA ） は 13 日 、 新型 の 地 対地 中距離 弾道 ミサイル 「 北極星 2 （ Pukguksong - 2 ） 」 の 発射 実験 が 12 日 に 実施 さ れ 、 成功 し た と 報じ た \n",
      "\n",
      "\n",
      "[[[cluster 41]]]\n",
      "0) :入国 制限 復活 へ 「 あらゆる 選択肢 検討 」 米 大統領 補佐 官 スティーブン ・ ミラー （ Stephen Miller ） 米 大統領 補佐 官 は 12 日 、 イスラム 圏 7 か国 出身 者 の 入国 を 禁止 し た 大統領 令 の 執行 が 差し止め られ て いる こと を 受け 、 新た な 大統領 令 など 「 あらゆる 選択肢 」 を 検討 し て いる と 明らか に し た \n",
      "\n",
      "1) :ドイツ 新 大統領 に シュタインマイヤー 氏 過去 に トランプ 氏 を 批判 ドイツ の 連邦 会議 は 12 日 、 新 大統領 に フランクワルター・シュタインマイヤー （ Frank - Walter Steinmeier ） 前 外相 （ 61 ） を 選出 し た \n",
      "\n",
      "2) :トランプ 大統領 と 物まね 俳優 の 写真 を 取り違え 掲載 、 新聞 社 が 謝罪 中 米 ドミニカ共和国 の 新聞 が 、 ドナルド ・ トランプ （ Donald Trump ） 米 大統領 と 間違え て 著名 な 物まね 俳優 の 顔 写真 を 紙面 に 掲載 し て しまう ミス を し 、 12 日 に 謝罪 し た \n",
      "\n",
      "\n",
      "[[[cluster 54]]]\n",
      "0) :トランプ 大統領 、 イスラエル の 入植 地 拡大 は 「 和平 に とっ て 良い こと で は ない 」 ドナルド ・ トランプ （ Donald Trump ） 米 大統領 は 10 日 、 ヘブライ 語 日刊 紙 イスラエル ・ ハヨム （ Israel Hayom ） の インタビュー で 、 パレスチナ 自治 区 で の イスラエル の 入植 地 拡大 は 「 和平 に とっ て 良い こと で は ない 」 と の 認識 を 示し た \n",
      "\n",
      "1) :安倍 首相 と トランプ 大統領 が フロリダ で 「 ゴルフ 外交 」 米 首都 ワシントン （ Washington D . C .） で 10 日 に 行わ れ た 日 米 首脳 会談 を 終え た 安倍 晋 三 （ Shinzo Abe ） 首相 と ドナルド ・ トランプ （ Donald Trump ） 米 大統領 は 、 同 大統領 が 所有 する フロリダ （ Florida ） 州 の リゾート 施設 「 マーアーラゴ・クラブ （ Mar - a - Lago Club ） 」 の ゴルフ 場 に 場 を 移し 、 米国 と アジア の 関係 について さらに 語り合っ た \n",
      "\n",
      "2) :安倍 首相 夫妻 、 トランプ 大統領 の リゾート 施設 に 招か れ 食事 会 ドナルド ・ トランプ （ Donald Trump ） 米 大統領 と の 初 の 首脳 会談 を 終え た 安倍 晋 三 （ Shinzo Abe ） 首相 は 10 日 、 トランプ 氏 が 所有 する フロリダ （ Florida ） 州 パームビーチ （ Palm Beach ） の リゾート 施設 「 マーアーラゴ・クラブ （ Mar - a - Lago Club ） 」 に 昭恵 （ Akie Abe ） 夫人 と共に 招か れ 、 食事 会 に 出席 し た \n",
      "\n",
      "\n",
      "[[[cluster 55]]]\n",
      "0) :トランプ 大統領 「 100 % 日本 を 支持 」 北朝鮮 の ミサイル 発射 で 共同 会見 ドナルド ・ トランプ （ Donald Trump ） 米 大統領 は 11 日 、 北朝鮮 が 弾道 ミサイル を 発射 し た こと を 受け て 安倍 晋 三 （ Shinzo Abe ） 首相 と 共同 記者 会見 を 開き 、 米国 は 日本 を 全面 的 に 支持 する と 表明 し た \n",
      "\n",
      "1) :北朝鮮 、 日本海 に 向け 弾道 ミサイル 発射 ムスダン か （ 更新 ） 北朝鮮 は 12 日 、 弾道 ミサイル を 発射 し た \n",
      "\n",
      "2) :メキシコ 国境 の 壁 、 建設 費 「 引き下げる 」 と トランプ 大統領 ドナルド ・ トランプ （ Donald Trump ） 米 大統領 は 11 日 、 不法 移民 対策 として 建設 を 命じ た 対 メキシコ 国境 の 壁 について 、 建設 費 を 「 引き下げる 」 と 主張 し た \n",
      "\n",
      "\n",
      "[[[cluster 60]]]\n",
      "0) :フィリピン で M 6 . 5 の 地震 、 4 人 死亡 （ 更新 、 写真 追加 ） フィリピン 南部 ミンダナオ （ Mindanao ） 島 の スリガオ （ Surigao ） で 10 日 夜 、 マグニチュード （ M ） 6 . 5 の 強い 地震 が あり 、 一夜 明け これ まで に 少なくとも 4 人 が 死亡 し た \n",
      "\n",
      "1) :フィリピン の 地震 、 死者 6 人 に 空港 滑走 路 など に も 被害 フィリピン 南部 ミンダナオ （ Mindanao ） 島 の スリガオ （ Surigao ） で 前日 夜 に 発生 し た マグニチュード （ M ） 6 . 5 で 、 死者 は 11 日 まで に 少なくとも 6 人 と なっ た \n",
      "\n",
      "2) :台湾 南部 で M 5 . 6 の 地震 、 4 人 負傷 米 地質 調査 所 （ USGS ） に よる と 、 台湾 南部 で 11 日 未明 、 マグニチュード （ M ） 5 . 6 の 地震 が 起き た \n",
      "\n",
      "\n",
      "[[[cluster 80]]]\n",
      "0) :判事 候補 の 批判 は 「 歪曲 」 トランプ 氏 、 民主党 議員 を 攻撃 ドナルド ・ トランプ （ Donald Trump ） 米 大統領 は 9 日 、 自ら の 司法 批判 に対する 「 失望 」 を 表明 し た 連邦 最高裁 判事 候補 ニール・ゴーサッチ （ Neil Gorsuch ） 氏 の 発言 を 公表 し た 民主党 の 上院 議員 を 非難 し た \n",
      "\n",
      "1) :連邦 判事 は 「 政治 的 」 トランプ 大統領 、 入国 禁止 令 めぐり 司法 批判 ドナルド ・ トランプ （ Donald Trump ） 米 大統領 は 8 日 、 論争 の 的 と なっ て いる 入国 禁止 令 の 是非 を 検討 中 の 連邦 判事 ら を 「 非常 に 政治 的 」 と 批判 し 、 自身 の 法 解釈 が 正しい こと は 「 でき の 悪い 高校生 」 で さえ 分かる だろ う と 主張 し た \n",
      "\n",
      "2) :トランプ 大統領 が 習 主席 に 書簡 「 建設 的 な 関係 」 へ 「 協力 楽しみ 」 ショーン・スパイサー （ Sean Spicer ） 米 大統領 報道 官 は 8 日 、 ドナルド ・ トランプ （ Donald Trump ） 大統領 が 中国 の 習近 平 （ Xi Jinping ） 国家 主席 に 書簡 を 送っ た こと を 明らか に し た \n",
      "\n",
      "\n",
      "[[[cluster 142]]]\n",
      "0) :米 NY で トランプ 支持 派 、 反対 派 が にらみ合い 分断 の 根深 さ 示す 米 ニューヨーク （ New York ） の マンハッタン （ Manhattan ） に ある トランプ タワー （ Trump Tower ） 近く で 5 日 、 ドナルド ・ トランプ （ Donald Trump ） 米 大統領 の 支持 者 ら と それ に 反対 派 の 人々 が 対峙 （ たいじ ） する 出来事 が あり 、 米国 の 分断 の 根深 さ を 証明 する 形 と なっ た \n",
      "\n",
      "1) :入国 禁止 令 、 米 司法省 が 高裁 に 申し立て あす 口頭 弁論 米 司法省 は 6 日 、 イスラム 圏 7 か国 から の 入国 禁止 など を 指示 し た ドナルド ・ トランプ （ Donald Trump ） 大統領 の 大統領 令 について 「 大統領 権限 の 合法 的 な 行使 」 だ と 擁護 する 申し立て を 連邦 控訴 裁判所 （ 高裁 ） に 行っ た \n",
      "\n",
      "2) :入国 禁止 令 、 世論 調査 で 反対 優勢 トランプ 氏 「 偽 ニュース 」 と 一蹴 ドナルド ・ トランプ （ Donald Trump ） 米 大統領 は 6 日 、 イスラム 圏 7 か国 出身 者 に対する 入国 禁止 令 に対し 世論 の 反発 が 広がっ て いる と する 調査 結果 を 「 虚偽 ニュース 」 と 一蹴 し た \n",
      "\n",
      "\n",
      "[[[cluster 143]]]\n",
      "0) :ルーマニア 抗議 デモ 続く 、 50 万 人 参加 政府 の 退陣 要求 ルーマニア で は 5 日 、 汚職 を 免罪 する 緊急 命令 を 発令 し た 政府 へ の 抗議 デモ が 6 夜 連続 で 開か れ 、 推計 50 万 人 が 参加 し た \n",
      "\n",
      "1) :ルーマニア 、 汚職 免罪 命令 を 撤回 へ ルーマニア で 汚職 を 免罪 する 緊急 命令 を 出し た 政府 へ の 抗議 デモ が 拡大 し た こと を 受け 、 ソリン・グリンデアヌ （ Sorin Grindeanu ） 首相 は 4 日 、 命令 を 撤回 する 方針 を 表明 し た \n",
      "\n",
      "\n",
      "[[[cluster 144]]]\n",
      "0) :トルコ 警察 、 IS メンバー 450 人 拘束 全国 規模 で 作戦 展開 トルコ 警察 当局 は 5 日 、 全国 規模 で の 作戦 を通じて 、 イスラム 過激 派 組織 「 イスラム 国 （ IS ） 」 の メンバー と み られる 容疑 者 450 人 近く を 拘束 し た \n",
      "\n",
      "1) :トルコ の IS 掃討 一斉 捜査 、 拘束 者 数 750 人 超 に トルコ 国営 メディア は 6 日 、 イスラム 過激 派 組織 「 イスラム 国 （ IS ） 」 に対する 、 同国 における 過去 最大 の 一斉 捜査 で 、 これ まで に 治安 部隊 が 拘束 し た IS と の 関連 が 疑わ れる 人物 が 750 人 超 に 上っ て いる と 報じ た \n",
      "\n",
      "2) :IS 、 モスル で 家 に 穴 開け 労賃 要求 住民 「 踏ん だり 蹴っ たり 」 と 怒り イスラム 過激 派 組織 「 イスラム 国 （ IS ） 」 の 牙城 と なっ て いる イラク 第 2 の 都市 モスル （ Mosul ） 西部 で 、 IS の 戦闘 員 が 移動 経路 を 確保 する ため 民家 に 勝手 に 穴 を 開け て いる 上 、 その 労賃 として その 家 の 持ち主 に 金銭 を 要求 し て いる と 、 複数 の 地元 住民 が 5 日 証言 し た \n",
      "\n",
      "\n",
      "[[[cluster 154]]]\n",
      "0) :仏 極右 ルペン 氏 「 フランス 第 一 」 旗印 に 大統領 選 へ 決起 集会 フランス の 極右 政党 「 国民 戦線 （ FN ） 」 の マリーヌ・ルペン （ Marine Le Pen ） 党首 （ 48 ） は 5 日 、 今年 4 ～ 5 月 に 行わ れる 大統領 選 に 向け た 決起 集会 を 行い 、 「 フランス 第 一 」 を 旗印 と する 大統領 を 目指す と 表明 し た \n",
      "\n",
      "1) :仏 大統領 選 、 左翼 党 候補 が ホログラム で 登場 2 都市 で 同時 演説 フランス 大統領 選 に 出馬 を 表明 し て いる 極左 政党 「 左翼 党 （ Left Party ） 」 の ジャンリュック・メランション （ Jean - Luc Melenchon ） 党首 は 5 日 、 中部 リヨン （ Lyon ） で 選挙 演説 を 行う と 同時に ホログラム で 首都 パリ （ Paris ） に も 登場 し た \n",
      "\n",
      "\n",
      "[[[cluster 164]]]\n",
      "0) :中国 、 マティス 米 国防 長官 の 「 尖閣 は 日 米 安保 範囲 」 に 警告 来日 し た 米国 の ジェームズ・マティス （ James Mattis ） 国防 長官 が 4 日 、 沖縄 県 ・ 尖閣諸島 （ Senkaku Islands 、 中国 名 ： 釣魚 島 、 Diaoyu Islands ） は 日 米 安全 保障 条約 の 適用 範囲 だ と 明言 し た こと に対し 、 中国 政府 は 同日 、 米国 に対し 東南アジア を 「 不安定 化 さ せ ない よう 要請 する 」 と 警告 し た \n",
      "\n",
      "1) :尖閣 は 日 米 安保 の 適用 範囲 、 マティス 米 国防 長官 東南アジア 歴訪 の 締めくくり として 4 日 都内 で 会見 し た 米国 の ジェームズ・マティス （ James Mattis ） 国防 長官 は 、 中国 が 領有 権 を 主張 し て いる 沖縄 県 ・ 尖閣諸島 （ Senkaku Islands 、 中国 名 ： 釣魚 島 、 Diaoyu Islands ） について 、 日 米 安全 保障 条約 の 適用 範囲 だ と 明言 し た \n",
      "\n",
      "\n",
      "[[[cluster 166]]]\n",
      "0) :イラン 、 軍事 演習 に ミサイル 配備 追加 制裁 科 し た 米 へ の 抗議 表明 イラン は 4 日 、 弾道 ミサイル 発射 実験 を 実施 し た として 米 政府 から 追加 制裁 を 科さ れる こと へ の 抗議 表明 として 、 イラン 革命 防衛 隊 （ Revolutionary Guards ） の 演習 に ミサイル を 配備 する 意向 を 明らか に し た \n",
      "\n",
      "1) :NY 広場 で イエメン 系 米国 人 が 一斉 礼拝 、 入国 制限 令 に 抗議 米 ニューヨーク （ New York ） の ブルックリン （ Brooklyn ） 地区 庁舎 前 で 2 日 、 イエメン 系 を 中心 と する イスラム 教徒 の 米国 人 たち 数 百 人 が 聖地 メッカ （ Mecca ） の 方角 を 向い て 礼拝 を 行い 、 イスラム 圏 7 か国 から の 入国 を 制限 する ドナルド ・ トランプ （ Donald Trump ） 大統領 の 大統領 令 に 抗議 し た \n",
      "\n",
      "2) :米 、 弾道 ミサイル 実験 で イラン に 追加 制裁 米 政府 は 3 日 、 イラン に対し 、 弾道 ミサイル 発射 実験 の 実施 と イエメン の イスラム教 シーア 派 （ Shiite ） 系 反 政府 武装 勢力 「 フー シ 派 （ Huthis ） 」 へ の 支援 を 理由 と し た 追加 制裁 を 科し た \n",
      "\n",
      "\n",
      "[[[cluster 173]]]\n",
      "0) :マティス 米 国防 長官 、 安倍 首相 と 会談 「 100 パーセント 、 日本 と 協力 」 （ 更新 、 訂正 ） 米国 の ドナルド ・ トランプ （ Donald Trump ） 新 政権 の 閣僚 として 初 の 外遊 を 行っ て いる ジェームズ ・ マティス （ James Mattis ） 国防 長官 が 3 日 来日 し 、 米国 は 日本 と 「 100 パーセント 」 協力 する と 表明 し た \n",
      "\n",
      "1) :北朝鮮 の 核 攻撃 に は 「 圧倒的 な 対応 」 マティス 米 国防 長官 ジェームズ・マティス （ James Mattis ） 米 国防 長官 は 3 日 、 訪問 先 の ソウル （ Seoul ） で 韓国 の 韓 民 求 （ ハン・ミング 、 Han Min - Koo ） 国防 相 と の 会談 を 前 に 、 北朝鮮 の 核 攻撃 に は 「 効果 的 かつ 圧倒的 」 な 対応 で 臨む と 言明 し た \n",
      "\n",
      "\n",
      "[[[cluster 180]]]\n",
      "0) :トランプ 大統領 、 ルーブル美術館 襲撃 受け 「 米国 は 賢く なる べき 」 ドナルド ・ トランプ （ Donald Trump ） 米 大統領 は 3 日 、 仏 パリ （ Paris ） の ルーブル美術館 （ Louvre Museum ） で 同日 、 刃物 を 持っ た 男 が 「 アラーアクバル （ アラビア 語 で 神 は 偉大 なり の 意 ） 」 と 叫び ながら 治安 部隊 に 襲い 掛かっ た 事件 について 言及 し 、 米国 は 「 賢く なる べき だ 」 と 述べ た \n",
      "\n",
      "1) :仏 ルーブル美術館 で 刃物 男 が 襲撃 、 兵士 が 発砲 （ 更新 、 写真 追加 ） 仏 パリ （ Paris ） の ルーブル美術館 （ Louvre Museum ） で 3 日 、 刃物 を 持っ た 男 が 「 アラーアクバル （ アラビア 語 で 神 は 偉大 なり の 意 ） 」 と 叫び ながら 治安 部隊 に 襲い 掛かる 事件 が 発生 し 、 兵士 が 男 に 発砲 、 男 は 重傷 を 負っ た \n",
      "\n",
      "\n",
      "[[[cluster 190]]]\n",
      "0) :トランプ 氏 所有 の ゴルフ クラブ 、 保証 金 返還 拒み 6 億 円 賠償 命令 米 フロリダ （ Florida ） 州 ウエスト パームビーチ （ West Palm Beach ） の 連邦 地裁 は 1 日 、 ドナルド ・ トランプ （ Donald Trump ） 米 大統領 が 所有 する ゴルフ クラブ に対し 、 クラブ 退会 に 伴っ て 保証 金 （ 預託 金 ） の 返還 を 求め て い た 元 会員 65 人 に 総額 570 万 ドル （ 約 6 億 4000 万 円 ） を 支払う よう を 命じる 判決 を 下し た \n",
      "\n",
      "1) :ノーベル 平和 賞 、 トランプ 氏 批判 の 米人 権 団体 が 有力 候補 に ドナルド ・ トランプ （ Donald Trump ） 米 大統領 に対する 批判 が 活動 家 ら の 間 で 高まる なか 、 今年 の ノーベル 平和 賞 （ Nobel Peace Prize ） は トランプ 氏 に対して 人権 尊重 を 求める 強い メッセージ を 発する もの に なる かも しれ ない \n",
      "\n",
      "\n",
      "[[[cluster 203]]]\n",
      "0) :米 入国 禁止 令 「 テロリスト 排除 で は 無 効果 」 国連 トップ が 解除 要請 国連 （ UN ） の アントニオ・グテレス （ Antonio Guterres ） 事務 総長 は 1 日 、 ドナルド ・ トランプ （ Donald Trump ） 米 大統領 が 命じ た イスラム 圏 7 か国 出身 者 の 米 入国 禁止 について 、 テロリスト が 米国 に 入国 を 防ぐ 上 で は 効果 が ない として 解除 を 求め た \n",
      "\n",
      "1) :米 入国 禁止 令 は 「 誤り 」 メイ 英 首相 が 批判 テリーザ・メイ （ Theresa May ） 英 首相 は 1 日 、 米国 による 難民 の 受け入れ 停止 と イスラム 圏 7 か国 の 出身 者 の 入国 禁止 を 指示 し た ドナルド ・ トランプ （ Donald Trump ） 大統領 の 命令 について 、 「 分断 を 招く もの で 、 誤り だ 」 と 批判 し た \n",
      "\n",
      "2) :米 政府 、 ビザ 申請 者 の SNS 履歴 と 通話 記録 の 開示 求める 可能 性 示唆 ドナルド ・ トランプ （ Donald Trump ） 米 大統領 が イスラム 圏 7 か国 出身 者 の 入国 禁止 を 指示 する 大統領 令 を 出し た こと を 受け 、 主 に イスラム 圏 の 国々 の ビザ 申請 者 が 「 徹底的 な 審査 」 の 対象 と なっ た 場合 、 ソーシャルメディア の 履歴 や 携帯 電話 の 通話 記録 の 開示 を 命じ られる 可能 性 が 出 て き た \n",
      "\n",
      "\n",
      "[[[cluster 235]]]\n",
      "0) :大量 の 衣類 入っ た 箱 が ベッド に 落下 、 家族 3 人 死亡 スペイン スペイン 南東 の アリ カンテ （ Alicante ） で 、 寝室 で 眠っ て い た 夫婦 と 娘 （ 12 ） の 上 に 大量 の 衣類 が 入っ た 複数 の 箱 が 落下 し 、 3 人 とも 死亡 し た \n",
      "\n",
      "1) :カナダ の モスク で 発砲 、 6 人 死亡 トルドー 首相 「 テロ 攻撃 」 と 非難 （ 更新 、 写真 追加 ） カナダ ・ ケベック 市 （ Quebec City ） で 29 日 夜 、 モスク （ イスラム 礼拝 所 ） に 入っ て き た 男 2 人 が 発砲 し 、 警察 に よる と 6 人 が 死亡 、 8 人 が 負傷 し た \n",
      "\n",
      "\n",
      "[[[cluster 243]]]\n",
      "0) :トランプ 氏 の 難民 受け入れ 停止 措置 、 チェコ 大統領 報道 官 が 支持 表明 ドナルド ・ トランプ （ Donald Trump ） 米 大統領 が 導入 し た 難民 の 受け入れ 停止 措置 について 、 チェコ の イリ・オフチャーチェク （ Jiri Ovcacek ） 大統領 報道 官 は 28 日 、 米 国民 の 安全 を 重視 し た 措置 だ として 称賛 し た \n",
      "\n",
      "1) :欧州 は トランプ 大統領 に 断固 と し た 対応 を 、 仏 大統領 が 呼び掛け フランス の フランソワ・オランド （ Francois Hollande ） 大統領 は 28 日 、 ポルトガル の リスボン （ Lisbon ） で 開か れ た 南欧 の 欧州 連合 （ EU ） 加盟 国 の 首脳 会議 で 、 欧州 は 一丸 と なっ て ドナルド ・ トランプ （ Donald Trump ） 米 大統領 に 断固 と し た 対応 を 取ろ う と 呼び掛け た \n",
      "\n",
      "2) :イスラエル 首相 、 トランプ 大統領 の 「 壁 建設 」 を ツイッター で 称賛 イスラエル の ベンヤミン・ネタニヤフ （ Benjamin Netanyahu ） 首相 は 28 日 、 ツイッター （ Twitter ） に 投稿 し 、 ドナルド ・ トランプ （ Donald Trump ） 米 大統領 が メキシコ 国境 で の 「 壁 建設 」 の 実現 に 向け た 大統領 令 に 署名 し た こと を 称賛 し た \n",
      "\n",
      "\n",
      "[[[cluster 263]]]\n",
      "0) :マティス 米 国防 長官 は 拷問 禁止 を 支持 、 国防総省 が 発表 米 国防総省 は 26 日 、 ジェームズ ・ マティス （ James Mattis ） 米 国防 長官 の 発言 として 、 テロ 容疑 者 など の 尋問 の 際 に 拷問 と 見なさ れる 手法 を 用いる こと を 禁じ た 法律 を 支持 する 姿勢 に 変わり は ない と 発表 し た \n",
      "\n",
      "1) :米 国防 長官 、 F 35 計画 の 見直し 命令 トランプ 氏 が 費用 批判 米 国防総省 は 27 日 、 ジェームズ ・ マティス （ James Mattis ） 新 国防 長官 が 、 米 防衛 大手 ロッキード ・ マーチン （ Lockheed Martin ） による 最 新鋭 ステルス 戦闘 機 F 35 開発 ・ 製造 計画 の 見直し を 命じ た と 発表 し た \n",
      "\n",
      "\n",
      "[[[cluster 283]]]\n",
      "0) :トランプ 政権 、 政府 機関 に かん口令 外部 と の 接触 や 情報 発信 を 制限 米国 の ドナルド ・ トランプ （ Donald Trump ） 新 政権 が 内務省 や 環境 保護 局 （ EPA ） など 一部 の 連邦 政府 機関 の 職員 に対し 、 外部 団体 と の 接触 や ソーシャルメディア へ の 投稿 を やめる よう 指示 し て い た こと が 分かっ た \n",
      "\n",
      "1) :トランプ 氏 、 新 スローガン の 商標 登録 出願 次期 大統領 選 に 使用 予定 ？ 米国 の ドナルド ・ トランプ （ Donald Trump ） 大統領 が 、 2020 年 に 実施 さ れる 次期 大統領 選 で 使用 予定 の スローガン の 商標 登録 を 出願 し て いる こと が 分かっ た \n",
      "\n",
      "\n",
      "[[[cluster 294]]]\n",
      "0) :伊 雪崩 の 死者 17 人 に 近く で 救助 ヘリ 墜落 、 6 人 死亡 イタリア 中部 ペスカーラ （ Pescara ） 県 の ホテル を 襲っ た 大 規模 な 雪崩 で 、 発生 から 6 日 が 過ぎ た 24 日 、 死者 は 17 人 に 増え 、 行方 不明 者 は 12 人 と なっ た \n",
      "\n",
      "1) :雪崩 直撃 の ホテル 、 新た に 6 人 の 遺体 イタリア 約 1 週間 前 に 大 規模 な 雪崩 に 巻き込ま れ た イタリア 中部 ペスカーラ （ Pescara ） 県 の ホテル で 新た に 6 人 の 遺体 が 発見 さ れ た \n",
      "\n",
      "\n",
      "[[[cluster 296]]]\n",
      "0) :米 トランプ 政権 で 定例 会見 に 変化 、 新 大統領 報道 官 の 流儀 見る から に 緊張 し た 面持ち で 、 米 ホワイトハウス （ White House ） の ウエスト ウイング （ 西 棟 ） に ある 記者 会見 場 に 現れ た ショーン・スパイサー （ Sean Spicer ） 氏 \n",
      "\n",
      "1) :米 ホワイトハウス の ウェブサイト 、 スペイン 語 ページ 消える ドナルド ・ トランプ （ Donald Trump ） 米 大統領 の 就任 後 に ホワイトハウス （ White House ） の ウェブサイト で スペイン 語 の ページ が 閲覧 でき なく なっ た こと について 、 スペイン 政府 は 23 日 、 ヒスパニック 系 が 多数 居住 し て いる 米国 において 「 良い 考え で は ない 」 と 懸念 を 表明 し た \n",
      "\n",
      "\n",
      "[[[cluster 301]]]\n",
      "0) :中国 紙 「 トランプ 米 新 大統領 に 対抗 し 、 核 強化 す べき 」 米国 の ドナルド ・ トランプ （ Donald Trump ） 新 大統領 の 姿勢 に 対抗 し 、 中国 は 「 米国 に 敬意 を 払わ せる ため に 」 核兵器 を 強化 す べき だ と する 主張 を 24 日 付 の 国営 英字 紙 ・ 環 球 時報 （ Global Times ） が 掲載 し た \n",
      "\n",
      "1) :米 、 物議 の パイプライン 計画 を 再開 トランプ 氏 が 大統領 令 ドナルド ・ トランプ （ Donald Trump ） 米 大統領 は 24 日 、 前 政権 が 阻止 し て い た パイプライン 建設 計画 2 件 を 再開 さ せる 大統領 令 に 署名 し た \n",
      "\n",
      "2) :豪 首相 、 米国 抜き の TPP に 言及 中国 参加 の 可能 性 も オーストラリア の マルコム・ターンブル （ Malcolm Turnbull ） 首相 は 24 日 、 ドナルド ・ トランプ （ Donald Trump ） 米 大統領 が 環太平洋 連携 協定 （ TPP ） から の 離脱 に関する 大統領 令 に 署名 し た 事 を 受け 、 米国 抜き で TPP を 練り直す 可能 性 に 言及 し 、 中国 が 参加 する 可能 性 も ある と 述べ た \n",
      "\n",
      "\n",
      "[[[cluster 313]]]\n",
      "0) :中国 の 出生 者 数 、 2016 年 は 前年 比 7 . 9 ％ 増 の 1786 万 人 中国 の 国家 衛生 ・ 計画 出産 委員 会 （ NHFPC ） は 22 日 、 中国 で の 2016 年 の 出生 数 が 2015 年 比 で 7 . 9 ％ 増 の 1786 万 人 と 、 今世紀 最多 を 記録 し た こと を 明らか に し た \n",
      "\n",
      "1) :中国 の ネット ユーザー 数 、 7 億 3100 万 人 に 欧州 の 人口 と 並ぶ 中国 当局 は 22 日 、 世界 最多 を 誇る 同国 の インターネット ユーザー 数 が 昨年 12 月 に 7 億 3100 万 人 に 達し た と 発表 し た \n",
      "\n",
      "\n",
      "[[[cluster 318]]]\n",
      "0) :米 弁護士 ら が トランプ 大統領 を 提訴 へ 、 外国 政府 から の 対価 は 「 違憲 」 米 首都 ワシントン （ Washington D . C .） で 活動 する 弁護士 と 研究 者 ら で 構成 する 市民 団体 が 22 日 、 ドナルド ・ トランプ （ Donald Trump ） 大統領 の 所有 する 会社 が 外国 政府 から 対価 を 受け取っ て いる の は 憲法 違反 だ として 、 連邦 裁判所 に 訴える と 発表 し た \n",
      "\n",
      "1) :【 写真 特集 】 全米 各地 で 女性 主導 の 反 トランプ 行進 、 女優 ら も 多数 参加 米 首都 ワシントン （ Washington D . C .） を はじめ と する 全米 各地 で 21 日 、 前日 に 就任 し た ドナルド ・ トランプ （ Donald Trump ） 新 大統領 に 抗議 する 女性 主導 の デモ 「 女性 の 行進 （ Women ' s March ） 」 が 行わ れ 、 200 万 人 以上 が 参加 し た \n",
      "\n",
      "2) :トランプ 大統領 、 CIA 職員 に 「 1000 パーセント あなた 方 と共に ある 」 米国 の ドナルド ・ トランプ （ Donald Trump ） 大統領 は 21 日 、 バージニア （ Virginia ） 州 の 米 中央 情報 局 （ CIA ） 本部 を 訪問 し 、 職員 ら を 前 に 「 私 は 1000 パーセント 、 あなた 方 と共に ある 」 と 述べる など 関係 修復 に 努め た \n",
      "\n",
      "\n",
      "[[[cluster 319]]]\n",
      "0) :伊 ホテル 雪崩 、 子犬 3 匹 を 5 日 ぶり 救出 生存 者 発見 の 期待 高まる イタリア 中部 ペスカーラ （ Pescara ） 県 で 大 規模 な 雪崩 に 見舞わ れ た ホテル の 内部 から 23 日 、 5 日 ぶり に 3 匹 の 子犬 が 救出 さ れ 、 依然 行方 不明 に なっ て いる 22 人 の 中 に も 生存 者 が いる かも しれ ない と の 期待 が 高まっ て いる \n",
      "\n",
      "1) :伊 雪崩 、 生き埋め の 生存 者 が 語る 「 雪 を 食べ 、 歌っ て 励ます … 」 （ 写真 追加 ） イタリア 中部 ペスカーラ （ Pescara ） 県 で ホテル が 巻き込ま れ た 大 規模 な 雪崩 で 、 救出 さ れ た 生存 者 が 22 日 、 生き埋め に なっ て い た 間 の 苛酷 な 状況 について 語っ た \n",
      "\n",
      "\n",
      "[[[cluster 320]]]\n",
      "0) :ガンビア 前 大統領 、 亡命 直前 に 12 . 5 億 円 持ち出し か 国庫 ほぼ 空 西アフリカ の ガンビア で 、 昨年 12 月 の 大統領 選 の 結果 を 受け入れ て 退陣 ・ 亡命 し た ヤヤ・ジャメ （ Yahya Jammeh ） 前 大統領 が 、 出国 直前 の 数 週間 で 約 1100 万 ドル （ 12 億 5000 万 円 ） 相当 の 政府 資金 を 不正 に 持ち出し た と 、 アダマ・バロウ （ Adama Barrow ） 新 大統領 の 側近 が 明らか に し た \n",
      "\n",
      "1) :ガンビア の ジャメ 前 大統領 が 出国 、 亡命 先 は 赤道ギニア 西アフリカ ・ ガンビア の ヤヤ・ジャメ （ Yahya Jammeh ） 前 大統領 は 21 日 、 22 年間 の 長期 政権 を 維持 し た 同国 を 出国 し 、 亡命 先 の 赤道ギニア に 向かっ た \n",
      "\n",
      "\n",
      "[[[cluster 334]]]\n",
      "0) :文化 人 「 ブラックリスト 」 作成 で 逮捕 さ れ た 韓国 文化 相 が 辞任 （ 更新 ） 韓国 当局 は 21 日 、 弾劾 訴追 さ れ た 朴 槿恵 （ パク・クネ 、 Park Geun - Hye ） 大統領 を 批判 し た 文化 人 約 1 万 人 の 「 ブラックリスト 」 を 作成 し た として 、 趙 允 旋 （ チョ・ユンソン 、 Cho Yoon - Sun ） 文化 体育 観光 相 （ 50 ） を 、 職権 乱用 など の 疑い で 逮捕 し た \n",
      "\n",
      "1) :米 検察 、 前 国連 事務 総長 の 実弟 の 逮捕 を 韓国 に 要請 米 検察 当局 は 20 日 、 潘 基 文 （ バン ・ キム ン 、 Ban Ki - moon ） 前 国連 事務 総長 の 実弟 、 バン ・ ギサン （ Ban Ki Sang ） 被告 の 逮捕 を 韓国 に 要請 し た と 明らか に し た \n",
      "\n",
      "\n",
      "[[[cluster 341]]]\n",
      "0) :雪崩 直撃 の 伊 ホテル 、 子供 ら 5 人 が 奇跡 的 生還 さらに 5 人 生存 （ 更新 ） イタリア 中部 に ある ホテル が 大 規模 な 雪崩 に 巻き込ま れ た 事故 で 20 日 、 がれき の 中 から 子ども 4 人 と 女性 1 人 が 2 日 ぶり に 救出 さ れ 、 さらに 5 人 の 生存 者 が 見つかっ た \n",
      "\n",
      "1) :雪崩 直撃 の ホテル 、 生存 者 6 人 を 発見 イタリア （ 更新 、 写真 追加 ） イタリア 中部 に ある ホテル が 大 規模 な 雪崩 に 巻き込ま れ た 事故 で 、 6 人 の 生存 者 が 救助 隊 によって 発見 さ れ た \n",
      "\n",
      "2) :雪崩 が ホテル を 直撃 、 25 人 死亡 の 恐れ 地震 頻発 の 伊 中部 （ 更新 ） イタリア 中部 で 18 日 、 ホテル が 大 規模 な 雪崩 に 巻き込ま れ 、 子ども 数 人 含む 少なくとも 25 人 が 死亡 し た 恐れ が 出 て いる \n",
      "\n",
      "\n",
      "[[[cluster 363]]]\n",
      "0) :「 正義 は 果たさ れ た 」 オバマ 大統領 、 マニング 受刑 者 の 減刑 を 擁護 バラク・オバマ （ Barack Obama ） 米 大統領 は 18 日 、 内部 告発 サイト 「 ウィキリークス （ WikiLeaks ） 」 に 米 軍 の 機密 情報 を 漏えい し た 罪 で 禁錮 35 年 の 刑期 を つとめ て いる トランスジェンダー （ 性別 越境 者 ） の 米兵 、 チェルシー・マニング （ Chelsea Manning ） 受刑 者 （ 28 ） に対して 恩赦 で 減刑 を 決め た こと について 、 同 受刑 者 に は 「 正義 が 果たさ れ た 」 として 自ら の 決定 の 正当 性 を 訴え た \n",
      "\n",
      "1) :機密 暴露 で 禁錮 35 年 の 米兵 、 オバマ 大統領 が 減刑 5 月 に 釈放 へ （ 更新 ） 米 ホワイトハウス （ White House ） は 17 日 、 内部 告発 サイト 「 ウィキリークス （ WikiLeaks ） 」 に 大量 の 米 軍 機密 情報 を 漏えい し た 罪 で 禁錮 35 年 の 刑期 を つとめ て いる トランスジェンダー （ 性別 越境 者 ） の 米兵 、 チェルシー・マニング （ Chelsea Manning ） 受刑 者 （ 28 ） について 、 バラク・オバマ （ Barack Obama ） 大統領 が 恩赦 により 刑 を 軽減 し た こと を 明らか に し た \n",
      "\n",
      "\n",
      "[[[cluster 368]]]\n",
      "0) :トランプ 氏 、 娘 と 間違え 別人 「 イヴァンカ 」 に ツイート ドナルド ・ トランプ （ Donald Trump ） 次期 米 大統領 は 、 長女 イヴァンカ （ Ivanka Trump ） さん （ 35 ） に 特別 の 愛情 を 注い で いる よう だ が 、 ま な 娘 の ツイッター （ Twitter ） の ユーザー 名 まで は 把握 し て い ない よう だ \n",
      "\n",
      "1) :トップレス 活動 家 、 トランプ 氏 の 股間 つかん で 抗議 ？ トップレス の 女性 が ドナルド ・ トランプ （ Donald Trump ） 次期 米 大統領 の 股 を まさぐっ て 抗議 ─ ─ スペイン ・ マドリード （ Madrid ） で 17 日 、 こんな 騒動 が あっ た \n",
      "\n",
      "2) :トランプ 氏 、 リンカーン 元 大統領 も 使用 し た 聖書 で 就任 宣誓 へ 今月 20 日 に 行わ れる ドナルド ・ トランプ （ Donald Trump ） 氏 の 大統領 就任 で 、 宣誓 に 同氏 自身 の 聖書 とともに 、 156 年 前 の 就任 式 で エーブラハム・リンカーン （ Abraham Lincoln ） 元 大統領 が 使っ た 聖書 が 使用 さ れる こと が わかっ た \n",
      "\n",
      "\n",
      "[[[cluster 381]]]\n",
      "0) :「 大統領 は 10 月 に 死亡 」 予言 し た 牧師 を 拘束 、 ジンバブエ ジンバブエ の 警察 当局 は 16 日 、 ロバート ・ ムガベ （ Robert Mugabe ） 大統領 が 今年 10 月 に 死亡 する と 予言 し た 牧師 の 身柄 を 拘束 し た \n",
      "\n",
      "1) :イスタンブール 銃 乱射 事件 、 拘束 さ れ た 容疑 者 が 犯行 自供 トルコ 最大 都市 イスタンブール （ Istanbul ） の ナイトクラブ で 今月 1 日 、 銃 の 乱射 によって 39 人 が 死亡 し た 事件 で 、 容疑 者 として 警察 に 拘束 さ れ た 男 が 犯行 を 自供 し た \n",
      "\n",
      "\n"
     ]
    }
   ],
   "source": [
    "for i, cluster in enumerate(clusters):\n",
    "    if len(cluster) > 1:\n",
    "        print(\"[[[cluster {}]]]\".format(i))\n",
    "        for i, c in enumerate(cluster[:3]):\n",
    "            print(\"{}) :{}\".format(i, targets_afp.iloc[c]['data']))\n",
    "        print(\"\")"
   ]
  },
  {
   "cell_type": "code",
   "execution_count": 22,
   "metadata": {},
   "outputs": [
    {
     "name": "stderr",
     "output_type": "stream",
     "text": [
      "/opt/conda/lib/python3.6/site-packages/h5py/__init__.py:36: FutureWarning: Conversion of the second argument of issubdtype from `float` to `np.floating` is deprecated. In future, it will be treated as `np.float64 == np.dtype(float).type`.\n",
      "  from ._conv import register_converters as _register_converters\n"
     ]
    }
   ],
   "source": [
    "import sys\n",
    "sys.path.append(\"../module/\")\n",
    "import align"
   ]
  },
  {
   "cell_type": "code",
   "execution_count": 117,
   "metadata": {},
   "outputs": [
    {
     "name": "stdout",
     "output_type": "stream",
     "text": [
      "INFO:tensorflow:Initialize variable module/embeddings/part_0:0 from checkpoint b'/tmp/tfhub_modules/22c95b8e6878e472b6647f65afb10d88cafc52e0/variables/variables' with embeddings\n"
     ]
    }
   ],
   "source": [
    "scores = align.execute(base_sentence=targets_afp['title'].iloc[clusters[10][0]], target_sentences=targets['title'].tolist(), tokenize=tagger.parse, stps=stps, threshold=0.5).tolist()\n",
    "scores = np.array(scores)"
   ]
  },
  {
   "cell_type": "code",
   "execution_count": 120,
   "metadata": {},
   "outputs": [
    {
     "data": {
      "text/plain": [
       "10989    金正男氏殺害で女1人を逮捕 遺体安置の病院には北朝鮮大使館員の姿も\n",
       "36523           金正男氏は北朝鮮の女性工作員2人が殺害＝韓国情報当局\n",
       "36545            金正男氏の死亡、米は北朝鮮が殺害との見方＝米政府筋\n",
       "Name: title, dtype: object"
      ]
     },
     "execution_count": 120,
     "metadata": {},
     "output_type": "execute_result"
    }
   ],
   "source": [
    "targets['title'][scores > 1500]"
   ]
  },
  {
   "cell_type": "code",
   "execution_count": 111,
   "metadata": {},
   "outputs": [
    {
     "name": "stdout",
     "output_type": "stream",
     "text": [
      "Mega bytes\n",
      "0.946368 2.6912\n",
      "rate\n",
      "2.8437140731723813\n"
     ]
    }
   ],
   "source": [
    "similarities = cosine_similarity(count_vectors, dense_output=False)\n",
    "similarities2 = cosine_similarity(count_vectors, dense_output=True)\n",
    "\n",
    "print(\"Mega bytes\")\n",
    "print(similarities.data.nbytes*1e-6, similarities2.data.nbytes*1e-6)\n",
    "print(\"rate\")\n",
    "print(similarities2.data.nbytes / similarities.data.nbytes)"
   ]
  },
  {
   "cell_type": "code",
   "execution_count": 181,
   "metadata": {},
   "outputs": [
    {
     "data": {
      "text/plain": [
       "946368"
      ]
     },
     "execution_count": 181,
     "metadata": {},
     "output_type": "execute_result"
    }
   ],
   "source": [
    "similarities.data.nbytes"
   ]
  },
  {
   "cell_type": "code",
   "execution_count": null,
   "metadata": {},
   "outputs": [],
   "source": []
  },
  {
   "cell_type": "code",
   "execution_count": null,
   "metadata": {},
   "outputs": [],
   "source": []
  }
 ],
 "metadata": {
  "kernelspec": {
   "display_name": "Python 3",
   "language": "python",
   "name": "python3"
  },
  "language_info": {
   "codemirror_mode": {
    "name": "ipython",
    "version": 3
   },
   "file_extension": ".py",
   "mimetype": "text/x-python",
   "name": "python",
   "nbconvert_exporter": "python",
   "pygments_lexer": "ipython3",
   "version": "3.6.5"
  }
 },
 "nbformat": 4,
 "nbformat_minor": 2
}
